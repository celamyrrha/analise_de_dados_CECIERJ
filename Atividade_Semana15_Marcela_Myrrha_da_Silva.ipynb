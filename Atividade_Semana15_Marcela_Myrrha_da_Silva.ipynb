{
  "nbformat": 4,
  "nbformat_minor": 0,
  "metadata": {
    "colab": {
      "provenance": [],
      "include_colab_link": true
    },
    "kernelspec": {
      "name": "python3",
      "display_name": "Python 3"
    },
    "language_info": {
      "name": "python"
    }
  },
  "cells": [
    {
      "cell_type": "markdown",
      "metadata": {
        "id": "view-in-github",
        "colab_type": "text"
      },
      "source": [
        "<a href=\"https://colab.research.google.com/github/celamyrrha/analise_de_dados_CECIERJ/blob/main/Atividade_Semana15_Marcela_Myrrha_da_Silva.ipynb\" target=\"_parent\"><img src=\"https://colab.research.google.com/assets/colab-badge.svg\" alt=\"Open In Colab\"/></a>"
      ]
    },
    {
      "cell_type": "markdown",
      "source": [
        "# Atividade da Semana 15\n",
        "\n",
        "Esta é atividade semanal sugerida. Você deverá preenchê-la e enviá-la dentro do prazo (até o fechamento da semana corrente)."
      ],
      "metadata": {
        "id": "bPISwE0Is_Pu"
      }
    },
    {
      "cell_type": "markdown",
      "source": [
        "> A predição da compra de um veículo pelos clientes é uma ferramenta extremamente valiosa para o time de marketing de uma concessionária. Ao relacionar o desfecho (*output*) \"compra\" com a informação de salário dos clientes, através de regressão logística, é possível obter *insights* significativos que podem impulsionar as estratégias de marketing e aumentar as chances de sucesso nas vendas.\n",
        "\n",
        "> Uma das principais vantagens da predição é a capacidade de identificar padrões e tendências no comportamento dos clientes. Ao analisar a relação entre o salário e a decisão de compra, o time de marketing pode compreender melhor quais faixas salariais têm maior probabilidade de adquirir um veículo. Essas informações são extremamente valiosas para direcionar os esforços de marketing de forma mais eficiente, direcionando recursos para os clientes com maior potencial de conversão.\n",
        "\n",
        "> Além disso, a predição da compra também auxilia na personalização das campanhas e na segmentação de mercado. Com base nos resultados da regressão logística, é possível identificar características e preferências específicas dos clientes que estão mais propensos a comprar um automóvel. Isso permite que o time de marketing crie campanhas direcionadas, adaptando mensagens e ofertas de acordo com o perfil de cada segmento de clientes.\n",
        "\n",
        "Abaixo, temos uma base de dados com informações sobre os clientes:"
      ],
      "metadata": {
        "id": "TCYQAqTYzEHZ"
      }
    },
    {
      "cell_type": "code",
      "source": [
        "# LEITURA DE DADOS\n",
        "# > NAO ALTERE ESTE SCRIPT\n",
        "import gdown\n",
        "import pandas as pd\n",
        "\n",
        "url = 'https://drive.google.com/uc?id=1Dlh7Yybvlqumqs8lVGRQpfu-C0rdyx1F'\n",
        "output = 'dados_concessionaria.csv'\n",
        "gdown.download(url, output, quiet=False)\n",
        "\n",
        "dados_conc = pd.read_csv(\"/content/dados_concessionaria.csv\")\n",
        "dados_conc"
      ],
      "metadata": {
        "id": "SSRQSv2XTq28",
        "colab": {
          "base_uri": "https://localhost:8080/",
          "height": 493
        },
        "outputId": "0d6e75e1-6178-4e0b-9664-113cce9147b5"
      },
      "execution_count": 3,
      "outputs": [
        {
          "output_type": "stream",
          "name": "stderr",
          "text": [
            "Downloading...\n",
            "From: https://drive.google.com/uc?id=1Dlh7Yybvlqumqs8lVGRQpfu-C0rdyx1F\n",
            "To: /content/dados_concessionaria.csv\n",
            "100%|██████████| 15.1k/15.1k [00:00<00:00, 20.6MB/s]\n"
          ]
        },
        {
          "output_type": "execute_result",
          "data": {
            "text/plain": [
              "          salario compra\n",
              "0     3625.000000    nao\n",
              "1     6166.666667    nao\n",
              "2     6583.333333    nao\n",
              "3     5333.333333    nao\n",
              "4     7041.666667    nao\n",
              "..            ...    ...\n",
              "845   6458.333333    sim\n",
              "846  10125.000000    sim\n",
              "847   8666.666667    sim\n",
              "848  11541.666667    sim\n",
              "849  11166.666667    sim\n",
              "\n",
              "[850 rows x 2 columns]"
            ],
            "text/html": [
              "\n",
              "  <div id=\"df-201be992-1757-45a9-9d10-5d70a60e7a7e\">\n",
              "    <div class=\"colab-df-container\">\n",
              "      <div>\n",
              "<style scoped>\n",
              "    .dataframe tbody tr th:only-of-type {\n",
              "        vertical-align: middle;\n",
              "    }\n",
              "\n",
              "    .dataframe tbody tr th {\n",
              "        vertical-align: top;\n",
              "    }\n",
              "\n",
              "    .dataframe thead th {\n",
              "        text-align: right;\n",
              "    }\n",
              "</style>\n",
              "<table border=\"1\" class=\"dataframe\">\n",
              "  <thead>\n",
              "    <tr style=\"text-align: right;\">\n",
              "      <th></th>\n",
              "      <th>salario</th>\n",
              "      <th>compra</th>\n",
              "    </tr>\n",
              "  </thead>\n",
              "  <tbody>\n",
              "    <tr>\n",
              "      <th>0</th>\n",
              "      <td>3625.000000</td>\n",
              "      <td>nao</td>\n",
              "    </tr>\n",
              "    <tr>\n",
              "      <th>1</th>\n",
              "      <td>6166.666667</td>\n",
              "      <td>nao</td>\n",
              "    </tr>\n",
              "    <tr>\n",
              "      <th>2</th>\n",
              "      <td>6583.333333</td>\n",
              "      <td>nao</td>\n",
              "    </tr>\n",
              "    <tr>\n",
              "      <th>3</th>\n",
              "      <td>5333.333333</td>\n",
              "      <td>nao</td>\n",
              "    </tr>\n",
              "    <tr>\n",
              "      <th>4</th>\n",
              "      <td>7041.666667</td>\n",
              "      <td>nao</td>\n",
              "    </tr>\n",
              "    <tr>\n",
              "      <th>...</th>\n",
              "      <td>...</td>\n",
              "      <td>...</td>\n",
              "    </tr>\n",
              "    <tr>\n",
              "      <th>845</th>\n",
              "      <td>6458.333333</td>\n",
              "      <td>sim</td>\n",
              "    </tr>\n",
              "    <tr>\n",
              "      <th>846</th>\n",
              "      <td>10125.000000</td>\n",
              "      <td>sim</td>\n",
              "    </tr>\n",
              "    <tr>\n",
              "      <th>847</th>\n",
              "      <td>8666.666667</td>\n",
              "      <td>sim</td>\n",
              "    </tr>\n",
              "    <tr>\n",
              "      <th>848</th>\n",
              "      <td>11541.666667</td>\n",
              "      <td>sim</td>\n",
              "    </tr>\n",
              "    <tr>\n",
              "      <th>849</th>\n",
              "      <td>11166.666667</td>\n",
              "      <td>sim</td>\n",
              "    </tr>\n",
              "  </tbody>\n",
              "</table>\n",
              "<p>850 rows × 2 columns</p>\n",
              "</div>\n",
              "      <button class=\"colab-df-convert\" onclick=\"convertToInteractive('df-201be992-1757-45a9-9d10-5d70a60e7a7e')\"\n",
              "              title=\"Convert this dataframe to an interactive table.\"\n",
              "              style=\"display:none;\">\n",
              "        \n",
              "  <svg xmlns=\"http://www.w3.org/2000/svg\" height=\"24px\"viewBox=\"0 0 24 24\"\n",
              "       width=\"24px\">\n",
              "    <path d=\"M0 0h24v24H0V0z\" fill=\"none\"/>\n",
              "    <path d=\"M18.56 5.44l.94 2.06.94-2.06 2.06-.94-2.06-.94-.94-2.06-.94 2.06-2.06.94zm-11 1L8.5 8.5l.94-2.06 2.06-.94-2.06-.94L8.5 2.5l-.94 2.06-2.06.94zm10 10l.94 2.06.94-2.06 2.06-.94-2.06-.94-.94-2.06-.94 2.06-2.06.94z\"/><path d=\"M17.41 7.96l-1.37-1.37c-.4-.4-.92-.59-1.43-.59-.52 0-1.04.2-1.43.59L10.3 9.45l-7.72 7.72c-.78.78-.78 2.05 0 2.83L4 21.41c.39.39.9.59 1.41.59.51 0 1.02-.2 1.41-.59l7.78-7.78 2.81-2.81c.8-.78.8-2.07 0-2.86zM5.41 20L4 18.59l7.72-7.72 1.47 1.35L5.41 20z\"/>\n",
              "  </svg>\n",
              "      </button>\n",
              "      \n",
              "  <style>\n",
              "    .colab-df-container {\n",
              "      display:flex;\n",
              "      flex-wrap:wrap;\n",
              "      gap: 12px;\n",
              "    }\n",
              "\n",
              "    .colab-df-convert {\n",
              "      background-color: #E8F0FE;\n",
              "      border: none;\n",
              "      border-radius: 50%;\n",
              "      cursor: pointer;\n",
              "      display: none;\n",
              "      fill: #1967D2;\n",
              "      height: 32px;\n",
              "      padding: 0 0 0 0;\n",
              "      width: 32px;\n",
              "    }\n",
              "\n",
              "    .colab-df-convert:hover {\n",
              "      background-color: #E2EBFA;\n",
              "      box-shadow: 0px 1px 2px rgba(60, 64, 67, 0.3), 0px 1px 3px 1px rgba(60, 64, 67, 0.15);\n",
              "      fill: #174EA6;\n",
              "    }\n",
              "\n",
              "    [theme=dark] .colab-df-convert {\n",
              "      background-color: #3B4455;\n",
              "      fill: #D2E3FC;\n",
              "    }\n",
              "\n",
              "    [theme=dark] .colab-df-convert:hover {\n",
              "      background-color: #434B5C;\n",
              "      box-shadow: 0px 1px 3px 1px rgba(0, 0, 0, 0.15);\n",
              "      filter: drop-shadow(0px 1px 2px rgba(0, 0, 0, 0.3));\n",
              "      fill: #FFFFFF;\n",
              "    }\n",
              "  </style>\n",
              "\n",
              "      <script>\n",
              "        const buttonEl =\n",
              "          document.querySelector('#df-201be992-1757-45a9-9d10-5d70a60e7a7e button.colab-df-convert');\n",
              "        buttonEl.style.display =\n",
              "          google.colab.kernel.accessAllowed ? 'block' : 'none';\n",
              "\n",
              "        async function convertToInteractive(key) {\n",
              "          const element = document.querySelector('#df-201be992-1757-45a9-9d10-5d70a60e7a7e');\n",
              "          const dataTable =\n",
              "            await google.colab.kernel.invokeFunction('convertToInteractive',\n",
              "                                                     [key], {});\n",
              "          if (!dataTable) return;\n",
              "\n",
              "          const docLinkHtml = 'Like what you see? Visit the ' +\n",
              "            '<a target=\"_blank\" href=https://colab.research.google.com/notebooks/data_table.ipynb>data table notebook</a>'\n",
              "            + ' to learn more about interactive tables.';\n",
              "          element.innerHTML = '';\n",
              "          dataTable['output_type'] = 'display_data';\n",
              "          await google.colab.output.renderOutput(dataTable, element);\n",
              "          const docLink = document.createElement('div');\n",
              "          docLink.innerHTML = docLinkHtml;\n",
              "          element.appendChild(docLink);\n",
              "        }\n",
              "      </script>\n",
              "    </div>\n",
              "  </div>\n",
              "  "
            ]
          },
          "metadata": {},
          "execution_count": 3
        }
      ]
    },
    {
      "cell_type": "markdown",
      "source": [
        "###Questão 1\n",
        "\n",
        "Infelizmente, a variável `compra` foi registrada como texto. Converta esta variável para um **atributo quantitativo discreto** onde:\n",
        "*   `nao` recebe `0`;\n",
        "*   `sim` recebe `1`."
      ],
      "metadata": {
        "id": "RAg7REeatl9X"
      }
    },
    {
      "cell_type": "code",
      "source": [
        "# Questao 1\n",
        "\n",
        "dados_conc.loc [dados_conc['compra'] == \"nao\", 'compra'] = 0\n",
        "dados_conc.loc [dados_conc['compra'] == \"sim\", 'compra'] = 1\n",
        "\n",
        "print(dados_conc)\n",
        "\n",
        "\n",
        "\n",
        "\n",
        "\n",
        "\n",
        "\n",
        "# DICA: Mantenha esse comando apos as alteracoes\n",
        "# > Forcamos o Python a entender que essa variavel e numerica\n",
        "dados_conc[\"compra\"] = pd.to_numeric(dados_conc[\"compra\"], \n",
        "                                     downcast=\"float\")"
      ],
      "metadata": {
        "id": "TFzs4S10tbM6",
        "colab": {
          "base_uri": "https://localhost:8080/"
        },
        "outputId": "4203af6a-365e-4005-87b3-e403d358a3eb"
      },
      "execution_count": 5,
      "outputs": [
        {
          "output_type": "stream",
          "name": "stdout",
          "text": [
            "          salario  compra\n",
            "0     3625.000000     0.0\n",
            "1     6166.666667     0.0\n",
            "2     6583.333333     0.0\n",
            "3     5333.333333     0.0\n",
            "4     7041.666667     0.0\n",
            "..            ...     ...\n",
            "845   6458.333333     1.0\n",
            "846  10125.000000     1.0\n",
            "847   8666.666667     1.0\n",
            "848  11541.666667     1.0\n",
            "849  11166.666667     1.0\n",
            "\n",
            "[850 rows x 2 columns]\n"
          ]
        }
      ]
    },
    {
      "cell_type": "markdown",
      "source": [
        "###Questão 2\n",
        "\n",
        "Crie uma base de `treinamento` e de `teste` para o ajuste de um modelo logístico. Utilize 80% dos dados como conjunto de treinamento.\n"
      ],
      "metadata": {
        "id": "3xNawcemugMY"
      }
    },
    {
      "cell_type": "code",
      "source": [
        "# Questao 2\n",
        "\n",
        "from sklearn.model_selection import train_test_split\n",
        "\n",
        "# Definindo conjunto de treino e teste simultaneamente\n",
        "# Aqui, o conjunto de treino sera 80% dos dados\n",
        "treino, teste = train_test_split(dados_conc, \n",
        "                                 train_size = 0.80, \n",
        "                                 random_state = 123)\n",
        "# random_state = 123 foi escolhido aleatoriamente\n",
        "# use o numero que achar melhor \n",
        "\n",
        "print(treino.shape)\n",
        "print(teste.shape)\n",
        "\n",
        "\n",
        "\n",
        "\n",
        "\n",
        "\n"
      ],
      "metadata": {
        "id": "x8g4GMufHvuL",
        "colab": {
          "base_uri": "https://localhost:8080/"
        },
        "outputId": "f6d2f252-8d3e-480b-fd70-307d98945781"
      },
      "execution_count": 6,
      "outputs": [
        {
          "output_type": "stream",
          "name": "stdout",
          "text": [
            "(680, 2)\n",
            "(170, 2)\n"
          ]
        }
      ]
    },
    {
      "cell_type": "markdown",
      "source": [
        "###Questão 3\n",
        "\n",
        "Treine o modelo logístico utilizando a base de `treino`."
      ],
      "metadata": {
        "id": "sbXN8AoMuxvx"
      }
    },
    {
      "cell_type": "code",
      "source": [
        "# Questao 3\n",
        "import numpy as np\n",
        "from sklearn.linear_model import LogisticRegression\n",
        "import statsmodels.api as sm\n",
        "\n",
        "# Definindo input e output - treinamento\n",
        "X_treino = sm.add_constant(treino['salario'])\n",
        "y_treino = treino['compra']\n",
        "\n",
        "# Definindo o modelo de regressao logistica\n",
        "reg = LogisticRegression()\n",
        "\n",
        "# Estimando o modelo\n",
        "modelo_estimado = reg.fit(X = X_treino, \n",
        "                          y = y_treino)\n",
        "\n",
        "\n",
        "\n",
        "\n",
        "\n",
        "\n",
        "\n",
        "\n"
      ],
      "metadata": {
        "id": "YxUJOpR2uyFh"
      },
      "execution_count": 7,
      "outputs": []
    },
    {
      "cell_type": "markdown",
      "source": [
        "###Questão 4\n",
        "\n",
        "Avalie a `performance` do modelo estimado na base de `teste` utilizando:\n",
        "*    Matriz de confusão\n",
        "*    Precisão\n",
        "*    Sensibilidade\n",
        "\n",
        "> Dica:\n",
        "*    Defina input e output para a base de teste;\n",
        "*    Faça a previsão para a base de teste;\n",
        "*    Calcule as medidas de performance listadas acima."
      ],
      "metadata": {
        "id": "b_9DPA3nRV0W"
      }
    },
    {
      "cell_type": "code",
      "source": [
        "# Questao 4\n",
        "\n",
        "from sklearn.metrics import confusion_matrix\n",
        "from sklearn.metrics import precision_score\n",
        "from sklearn.metrics import recall_score\n",
        "\n",
        "# Definindo input e output - teste\n",
        "X_teste = sm.add_constant(teste['salario'])\n",
        "y_teste = teste['compra']\n",
        "\n",
        "# Previsao\n",
        "previsao = modelo_estimado.predict(X = X_teste)\n",
        "\n",
        "\n",
        "# Matriz de confusao\n",
        "mat_confusao = confusion_matrix(y_teste, previsao)\n",
        "print(mat_confusao)\n",
        "\n",
        "# Precisao\n",
        "print(precision_score(y_teste, previsao))\n",
        "\n",
        "# Sensibilidade\n",
        "print(recall_score(y_teste, previsao))\n",
        "\n",
        "\n",
        "\n"
      ],
      "metadata": {
        "id": "WhlmC6LESPca",
        "colab": {
          "base_uri": "https://localhost:8080/"
        },
        "outputId": "5086e625-8bb9-44e6-c86a-5dd05294871f"
      },
      "execution_count": 12,
      "outputs": [
        {
          "output_type": "stream",
          "name": "stdout",
          "text": [
            "[[109   6]\n",
            " [ 11  44]]\n",
            "0.88\n",
            "0.8\n"
          ]
        }
      ]
    },
    {
      "cell_type": "markdown",
      "source": [
        "###Questão 5\n",
        "\n",
        "Interprete os resultados: Você acredita que o modelo é adequado? Justifique:\n",
        "1.    Interpretando as medidas de performance calculadas anteriormente;\n",
        "2.    Ilustrando com o gráfico que exibe os dados de compra e salário, juntamente com a curva que estima a probabilidade de compra."
      ],
      "metadata": {
        "id": "8LNVxN-DvqpU"
      }
    },
    {
      "cell_type": "code",
      "source": [
        "# Questao 5 (parte 1)\n",
        "\n",
        "# O modelo se mostra adequado já que as medidas de precisão e sensibilidade são altas, mostrando que o modelo tem alto número de acertos.\n",
        "\n",
        "\n"
      ],
      "metadata": {
        "id": "BFwNruPF5eMZ"
      },
      "execution_count": null,
      "outputs": []
    },
    {
      "cell_type": "code",
      "source": [
        "# Questao 5 (parte 2)\n",
        "import matplotlib.pyplot as plt\n",
        "# Grafico de dispersao - conjunto de teste\n",
        "dados_conc.plot.scatter(x=\"salario\", y= \"compra\", label='Observado')\n",
        "\n",
        "# Desenhando a linha de previsao\n",
        "x_prev = np.linspace(dados_conc['salario'].min(),\n",
        "                     dados_conc['salario'].max(),\n",
        "                     100).reshape(-1, 1)\n",
        "y_prev = modelo_estimado.predict_proba(X = sm.add_constant(x_prev))[:, 1]\n",
        "\n",
        "plt.plot(x_prev, y_prev, color='red', label='Modelo estimado')\n",
        "\n",
        "# Rotulos e titulo\n",
        "plt.xlabel(\"Salário\")\n",
        "plt.ylabel(\"Compra de automóveis\")\n",
        "plt.title('Relação entre salário e compra na concessionária')\n",
        "\n",
        "# Legenda\n",
        "plt.legend()\n",
        "\n",
        "# Exibindo o grafico\n",
        "plt.show()\n",
        "\n",
        "\n",
        "\n"
      ],
      "metadata": {
        "id": "4csV7lUlJzcy",
        "colab": {
          "base_uri": "https://localhost:8080/",
          "height": 527
        },
        "outputId": "3efd80fe-5b9c-4e2d-cbf5-2dbe6ab10d97"
      },
      "execution_count": 16,
      "outputs": [
        {
          "output_type": "stream",
          "name": "stderr",
          "text": [
            "/usr/local/lib/python3.10/dist-packages/sklearn/base.py:439: UserWarning: X does not have valid feature names, but LogisticRegression was fitted with feature names\n",
            "  warnings.warn(\n"
          ]
        },
        {
          "output_type": "display_data",
          "data": {
            "text/plain": [
              "<Figure size 640x480 with 1 Axes>"
            ],
            "image/png": "[encoded data removed]"
          },
          "metadata": {}
        }
      ]
    }
  ]
}