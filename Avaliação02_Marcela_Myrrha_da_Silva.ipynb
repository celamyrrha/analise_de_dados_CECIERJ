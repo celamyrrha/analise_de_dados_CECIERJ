{
  "cells": [
    {
      "cell_type": "markdown",
      "metadata": {
        "id": "view-in-github",
        "colab_type": "text"
      },
      "source": [
        "<a href=\"https://colab.research.google.com/github/celamyrrha/analise_de_dados_CECIERJ/blob/main/Avalia%C3%A7%C3%A3o02_Marcela_Myrrha_da_Silva.ipynb\" target=\"_parent\"><img src=\"https://colab.research.google.com/assets/colab-badge.svg\" alt=\"Open In Colab\"/></a>"
      ]
    },
    {
      "cell_type": "markdown",
      "metadata": {
        "id": "bPISwE0Is_Pu"
      },
      "source": [
        "# Avaliação 2 - Semanas 17 e 18\n",
        "\n",
        "Esta é **avaliação 2 (A2)**. Você deverá preenchê-la e enviá-la dentro do prazo (até o fechamento da semana corrente)."
      ]
    },
    {
      "cell_type": "markdown",
      "metadata": {
        "id": "RAg7REeatl9X"
      },
      "source": [
        "###Questão 1: Estatística\n",
        "\n",
        "> O IMDb (*Internet Movie Database*) é uma plataforma online que fornece informações abrangentes sobre filmes, programas de TV e profissionais da indústria do entretenimento, tornando-se uma ferramenta popular para os amantes do cinema e da televisão.\n",
        "\n",
        "Abaixo, uma seleção dos filmes mais bem avaliados pelo IMDb. As colunas se referem ao seguintes itens:\n",
        "- `V1`: Título do filme (em inglês)\n",
        "- `V2`: Avaliação IMDb (0 a 10)\n",
        "- `V3`: Duração (em minutos)\n",
        "- `V4`: Gênero\n",
        "- `V5`: Avaliação externa (0 a 100)\n",
        "- `V6`: Votos\n",
        "\n",
        "A partir dela, responda as questões seguintes:\n"
      ]
    },
    {
      "cell_type": "code",
      "source": [
        "# Questao 1\n",
        "# NAO ALTERE ESSES COMANDOS\n",
        "# A BASE SERA CARREGADA NO OBJETO `filmes`\n",
        "# USE ESSE OBJETO PARA SEGUIR COM OS EXERCICIOS\n",
        "import gdown\n",
        "import pandas as pd\n",
        "\n",
        "url = 'https://drive.google.com/uc?id=1Q6otN_fXLhwGJkA_4I8xf9UCZrlvTJpw'\n",
        "output = 'dados_filmes.csv'\n",
        "gdown.download(url, output, quiet=True)\n",
        "\n",
        "filmes = pd.read_csv('/content/dados_filmes.csv')\n",
        "filmes.head()"
      ],
      "metadata": {
        "id": "5TDz5HNJCIyv",
        "colab": {
          "base_uri": "https://localhost:8080/",
          "height": 206
        },
        "outputId": "7e9e8b1b-c35e-4b0c-da3a-fd8a8007b094"
      },
      "execution_count": null,
      "outputs": [
        {
          "output_type": "execute_result",
          "data": {
            "text/plain": [
              "                                    V1   V2   V3         V4     V5       V6\n",
              "0             The Shawshank Redemption  9.3  142      Drama   82.0  2752419\n",
              "1                        The Godfather  9.2  175      Crime  100.0  1914751\n",
              "2  Ramayana: The Legend of Prince Rama  9.2  135  Animation    NaN    10108\n",
              "3                      The Chaos Class  9.2   87     Comedy    NaN    41785\n",
              "4                                Daman  9.1  121  Adventure    NaN    13303"
            ],
            "text/html": [
              "\n",
              "  <div id=\"df-1fe44e0c-8afc-4a97-b2e7-277bda8f344b\">\n",
              "    <div class=\"colab-df-container\">\n",
              "      <div>\n",
              "<style scoped>\n",
              "    .dataframe tbody tr th:only-of-type {\n",
              "        vertical-align: middle;\n",
              "    }\n",
              "\n",
              "    .dataframe tbody tr th {\n",
              "        vertical-align: top;\n",
              "    }\n",
              "\n",
              "    .dataframe thead th {\n",
              "        text-align: right;\n",
              "    }\n",
              "</style>\n",
              "<table border=\"1\" class=\"dataframe\">\n",
              "  <thead>\n",
              "    <tr style=\"text-align: right;\">\n",
              "      <th></th>\n",
              "      <th>V1</th>\n",
              "      <th>V2</th>\n",
              "      <th>V3</th>\n",
              "      <th>V4</th>\n",
              "      <th>V5</th>\n",
              "      <th>V6</th>\n",
              "    </tr>\n",
              "  </thead>\n",
              "  <tbody>\n",
              "    <tr>\n",
              "      <th>0</th>\n",
              "      <td>The Shawshank Redemption</td>\n",
              "      <td>9.3</td>\n",
              "      <td>142</td>\n",
              "      <td>Drama</td>\n",
              "      <td>82.0</td>\n",
              "      <td>2752419</td>\n",
              "    </tr>\n",
              "    <tr>\n",
              "      <th>1</th>\n",
              "      <td>The Godfather</td>\n",
              "      <td>9.2</td>\n",
              "      <td>175</td>\n",
              "      <td>Crime</td>\n",
              "      <td>100.0</td>\n",
              "      <td>1914751</td>\n",
              "    </tr>\n",
              "    <tr>\n",
              "      <th>2</th>\n",
              "      <td>Ramayana: The Legend of Prince Rama</td>\n",
              "      <td>9.2</td>\n",
              "      <td>135</td>\n",
              "      <td>Animation</td>\n",
              "      <td>NaN</td>\n",
              "      <td>10108</td>\n",
              "    </tr>\n",
              "    <tr>\n",
              "      <th>3</th>\n",
              "      <td>The Chaos Class</td>\n",
              "      <td>9.2</td>\n",
              "      <td>87</td>\n",
              "      <td>Comedy</td>\n",
              "      <td>NaN</td>\n",
              "      <td>41785</td>\n",
              "    </tr>\n",
              "    <tr>\n",
              "      <th>4</th>\n",
              "      <td>Daman</td>\n",
              "      <td>9.1</td>\n",
              "      <td>121</td>\n",
              "      <td>Adventure</td>\n",
              "      <td>NaN</td>\n",
              "      <td>13303</td>\n",
              "    </tr>\n",
              "  </tbody>\n",
              "</table>\n",
              "</div>\n",
              "      <button class=\"colab-df-convert\" onclick=\"convertToInteractive('df-1fe44e0c-8afc-4a97-b2e7-277bda8f344b')\"\n",
              "              title=\"Convert this dataframe to an interactive table.\"\n",
              "              style=\"display:none;\">\n",
              "        \n",
              "  <svg xmlns=\"http://www.w3.org/2000/svg\" height=\"24px\"viewBox=\"0 0 24 24\"\n",
              "       width=\"24px\">\n",
              "    <path d=\"M0 0h24v24H0V0z\" fill=\"none\"/>\n",
              "    <path d=\"M18.56 5.44l.94 2.06.94-2.06 2.06-.94-2.06-.94-.94-2.06-.94 2.06-2.06.94zm-11 1L8.5 8.5l.94-2.06 2.06-.94-2.06-.94L8.5 2.5l-.94 2.06-2.06.94zm10 10l.94 2.06.94-2.06 2.06-.94-2.06-.94-.94-2.06-.94 2.06-2.06.94z\"/><path d=\"M17.41 7.96l-1.37-1.37c-.4-.4-.92-.59-1.43-.59-.52 0-1.04.2-1.43.59L10.3 9.45l-7.72 7.72c-.78.78-.78 2.05 0 2.83L4 21.41c.39.39.9.59 1.41.59.51 0 1.02-.2 1.41-.59l7.78-7.78 2.81-2.81c.8-.78.8-2.07 0-2.86zM5.41 20L4 18.59l7.72-7.72 1.47 1.35L5.41 20z\"/>\n",
              "  </svg>\n",
              "      </button>\n",
              "      \n",
              "  <style>\n",
              "    .colab-df-container {\n",
              "      display:flex;\n",
              "      flex-wrap:wrap;\n",
              "      gap: 12px;\n",
              "    }\n",
              "\n",
              "    .colab-df-convert {\n",
              "      background-color: #E8F0FE;\n",
              "      border: none;\n",
              "      border-radius: 50%;\n",
              "      cursor: pointer;\n",
              "      display: none;\n",
              "      fill: #1967D2;\n",
              "      height: 32px;\n",
              "      padding: 0 0 0 0;\n",
              "      width: 32px;\n",
              "    }\n",
              "\n",
              "    .colab-df-convert:hover {\n",
              "      background-color: #E2EBFA;\n",
              "      box-shadow: 0px 1px 2px rgba(60, 64, 67, 0.3), 0px 1px 3px 1px rgba(60, 64, 67, 0.15);\n",
              "      fill: #174EA6;\n",
              "    }\n",
              "\n",
              "    [theme=dark] .colab-df-convert {\n",
              "      background-color: #3B4455;\n",
              "      fill: #D2E3FC;\n",
              "    }\n",
              "\n",
              "    [theme=dark] .colab-df-convert:hover {\n",
              "      background-color: #434B5C;\n",
              "      box-shadow: 0px 1px 3px 1px rgba(0, 0, 0, 0.15);\n",
              "      filter: drop-shadow(0px 1px 2px rgba(0, 0, 0, 0.3));\n",
              "      fill: #FFFFFF;\n",
              "    }\n",
              "  </style>\n",
              "\n",
              "      <script>\n",
              "        const buttonEl =\n",
              "          document.querySelector('#df-1fe44e0c-8afc-4a97-b2e7-277bda8f344b button.colab-df-convert');\n",
              "        buttonEl.style.display =\n",
              "          google.colab.kernel.accessAllowed ? 'block' : 'none';\n",
              "\n",
              "        async function convertToInteractive(key) {\n",
              "          const element = document.querySelector('#df-1fe44e0c-8afc-4a97-b2e7-277bda8f344b');\n",
              "          const dataTable =\n",
              "            await google.colab.kernel.invokeFunction('convertToInteractive',\n",
              "                                                     [key], {});\n",
              "          if (!dataTable) return;\n",
              "\n",
              "          const docLinkHtml = 'Like what you see? Visit the ' +\n",
              "            '<a target=\"_blank\" href=https://colab.research.google.com/notebooks/data_table.ipynb>data table notebook</a>'\n",
              "            + ' to learn more about interactive tables.';\n",
              "          element.innerHTML = '';\n",
              "          dataTable['output_type'] = 'display_data';\n",
              "          await google.colab.output.renderOutput(dataTable, element);\n",
              "          const docLink = document.createElement('div');\n",
              "          docLink.innerHTML = docLinkHtml;\n",
              "          element.appendChild(docLink);\n",
              "        }\n",
              "      </script>\n",
              "    </div>\n",
              "  </div>\n",
              "  "
            ]
          },
          "metadata": {},
          "execution_count": 1
        }
      ]
    },
    {
      "cell_type": "markdown",
      "source": [
        "**(0,25 ponto)** 1.a) Utilizando as melhores práticas de manipulação de base de dados, renomeie as colunas utilizando a definição transcrita no enunciado da questão. Salve a base de dados no mesmo objeto `filmes`."
      ],
      "metadata": {
        "id": "TIukIeN6CIgg"
      }
    },
    {
      "cell_type": "code",
      "source": [
        "# Questao 1\n",
        "# 1.a)\n",
        "\n",
        "filmes.columns=['Título do filme (em inglês)','Avaliação IMDb (0 a 10)','Duração (em minutos)','Gênero','Avaliação externa (0 a 100)','Votos']\n",
        "print(filmes.columns)"
      ],
      "metadata": {
        "id": "BQSIy4b_w-ml",
        "colab": {
          "base_uri": "https://localhost:8080/"
        },
        "outputId": "c675da77-f432-4edd-dab0-905789c37634"
      },
      "execution_count": null,
      "outputs": [
        {
          "output_type": "stream",
          "name": "stdout",
          "text": [
            "Index(['Título do filme (em inglês)', 'Avaliação IMDb (0 a 10)',\n",
            "       'Duração (em minutos)', 'Gênero', 'Avaliação externa (0 a 100)',\n",
            "       'Votos'],\n",
            "      dtype='object')\n"
          ]
        }
      ]
    },
    {
      "cell_type": "markdown",
      "source": [
        "**(0,25 ponto)** 1.b) A base possui valores faltantes. Remova-os e salve a base de dados no mesmo objeto `filmes`."
      ],
      "metadata": {
        "id": "oZ1fJ4r8yGmI"
      }
    },
    {
      "cell_type": "code",
      "source": [
        "# Questao 1\n",
        "# 1.b)\n",
        "filmes = filmes.dropna()\n"
      ],
      "metadata": {
        "id": "buQ94EbKyP8I"
      },
      "execution_count": null,
      "outputs": []
    },
    {
      "cell_type": "markdown",
      "source": [
        "**(0,4 ponto)** 1.c) Após a remoção dos valores faltantes, quantos registros estão disponíveis para análise?"
      ],
      "metadata": {
        "id": "eFbA5lIZyhCM"
      }
    },
    {
      "cell_type": "code",
      "source": [
        "# Questao 1\n",
        "# 1.c)\n",
        "print(filmes.shape)\n"
      ],
      "metadata": {
        "id": "CVWM3siDypPq",
        "colab": {
          "base_uri": "https://localhost:8080/"
        },
        "outputId": "516b821a-926c-423d-95f9-311b9c358cb4"
      },
      "execution_count": null,
      "outputs": [
        {
          "output_type": "stream",
          "name": "stdout",
          "text": [
            "(7992, 6)\n"
          ]
        }
      ]
    },
    {
      "cell_type": "markdown",
      "source": [
        "**(0,4 ponto)** 1.d) Qual a duração média **(em horas)** dos filmes dessa seleção?"
      ],
      "metadata": {
        "id": "76fildpR0EaE"
      }
    },
    {
      "cell_type": "code",
      "source": [
        "# Questao 1\n",
        "# 1.d)\n",
        "media_horas = (filmes['Duração (em minutos)']/60).mean()\n",
        "print(media_horas)\n",
        "\n"
      ],
      "metadata": {
        "id": "afFW3O6i0TiC",
        "colab": {
          "base_uri": "https://localhost:8080/"
        },
        "outputId": "40901647-1fb3-4ab9-c54f-ce0e9d1bc855"
      },
      "execution_count": null,
      "outputs": [
        {
          "output_type": "stream",
          "name": "stdout",
          "text": [
            "1.8200617283950618\n"
          ]
        }
      ]
    },
    {
      "cell_type": "markdown",
      "source": [
        "**(0,4 ponto)** 1.e) 50% dos filmes desta lista obtiveram *Avaliação IMDb* maior ou igual a:"
      ],
      "metadata": {
        "id": "QdgB8ij31aBr"
      }
    },
    {
      "cell_type": "code",
      "source": [
        "# Questao 1\n",
        "# 1.e)\n",
        "mediana = filmes['Avaliação IMDb (0 a 10)'].median()\n",
        "print(mediana)\n",
        "\n"
      ],
      "metadata": {
        "id": "x1g9v5TH1pNB",
        "colab": {
          "base_uri": "https://localhost:8080/"
        },
        "outputId": "23c8e035-aa21-4161-e908-0c1e8e01c274"
      },
      "execution_count": null,
      "outputs": [
        {
          "output_type": "stream",
          "name": "stdout",
          "text": [
            "6.7\n"
          ]
        }
      ]
    },
    {
      "cell_type": "markdown",
      "source": [
        "**(0,4 ponto)** 1.f) Qual percentual de filmes receberam *Avaliação externa* maior ou igual a 80?"
      ],
      "metadata": {
        "id": "YgWXI7VP2c2f"
      }
    },
    {
      "cell_type": "code",
      "source": [
        "# Questao 1\n",
        "# 1.f)\n",
        "avaliacao = (filmes['Avaliação externa (0 a 100)'] >= 80).sum() / len(filmes) * 100\n",
        "print(avaliacao)\n",
        "\n"
      ],
      "metadata": {
        "id": "nJwOGosu2dAH",
        "colab": {
          "base_uri": "https://localhost:8080/"
        },
        "outputId": "8d53fddd-2588-4f2b-ba04-006ff6ab59d5"
      },
      "execution_count": null,
      "outputs": [
        {
          "output_type": "stream",
          "name": "stdout",
          "text": [
            "12.975475475475475\n"
          ]
        }
      ]
    },
    {
      "cell_type": "markdown",
      "source": [
        "**(0,4 ponto)** 1.g) Qual filme recebeu o maior número de votos?"
      ],
      "metadata": {
        "id": "vYLwBcm53rey"
      }
    },
    {
      "cell_type": "code",
      "source": [
        "# Questao 1\n",
        "# 1.g)\n",
        "ordenado_votos = filmes.sort_values(by='Votos', ascending=False)\n",
        "filme_mais_votado = ordenado_votos.iloc[0]['Título do filme (em inglês)']\n",
        "print(filme_mais_votado)\n"
      ],
      "metadata": {
        "id": "2ehfZ__Z3rom",
        "colab": {
          "base_uri": "https://localhost:8080/"
        },
        "outputId": "41bac79e-7632-4dbb-8016-06af2b2d8150"
      },
      "execution_count": null,
      "outputs": [
        {
          "output_type": "stream",
          "name": "stdout",
          "text": [
            "The Shawshank Redemption\n"
          ]
        }
      ]
    },
    {
      "cell_type": "markdown",
      "source": [
        "**(0,4 ponto)** 1.h) Quantos filmes receberam a maior possível avaliação externa?"
      ],
      "metadata": {
        "id": "Mbq0b2a44sHQ"
      }
    },
    {
      "cell_type": "code",
      "source": [
        "# Questao 1\n",
        "# 1.h)\n",
        "avaliacao_maxima = (filmes['Avaliação externa (0 a 100)'].max())\n",
        "filmes_avaliacao_maxima = filmes[filmes['Avaliação externa (0 a 100)'] == avaliacao_maxima]\n",
        "qt_avaliacao_maxima = filmes_avaliacao_maxima.shape[0]\n",
        "print(qt_avaliacao_maxima)\n"
      ],
      "metadata": {
        "id": "EM2EobuG4rFj",
        "colab": {
          "base_uri": "https://localhost:8080/"
        },
        "outputId": "fc6b3b30-9ded-4702-c1c7-412294330870"
      },
      "execution_count": null,
      "outputs": [
        {
          "output_type": "stream",
          "name": "stdout",
          "text": [
            "15\n"
          ]
        }
      ]
    },
    {
      "cell_type": "markdown",
      "source": [
        "**(0,4 ponto)** 1.i) Quantos gêneros distintos há na base de dados?"
      ],
      "metadata": {
        "id": "RrWqrepU7O6j"
      }
    },
    {
      "cell_type": "code",
      "source": [
        "# Questao 1\n",
        "# 1.i)\n",
        "\n",
        "qt_generos = filmes['Gênero'].nunique()\n",
        "print(qt_generos)"
      ],
      "metadata": {
        "id": "L9yc4Fgp7PD4",
        "colab": {
          "base_uri": "https://localhost:8080/"
        },
        "outputId": "55bd7f6f-3892-4faf-a105-5e625e257c78"
      },
      "execution_count": null,
      "outputs": [
        {
          "output_type": "stream",
          "name": "stdout",
          "text": [
            "19\n"
          ]
        }
      ]
    },
    {
      "cell_type": "markdown",
      "source": [
        "**(0,4 ponto)** 1.j) Crie um gráfico de barras onde o eixo horizontal corresponde aos generos e o eixo vertical corresponde as contagens de filme daquele gênero."
      ],
      "metadata": {
        "id": "LEU8o58D8AcX"
      }
    },
    {
      "cell_type": "code",
      "source": [
        "# Questao 1\n",
        "# 1.j)\n",
        "import matplotlib.pyplot as plt\n",
        "\n",
        "qt_generos = filmes['Gênero'].value_counts()\n",
        "\n",
        "plt.bar(qt_generos.index, qt_generos.values)\n",
        "plt.xlabel('Gênero')\n",
        "plt.xticks(rotation=90)\n",
        "plt.title('Contagem de Filmes por Gênero')\n",
        "plt.show()"
      ],
      "metadata": {
        "id": "e7dqfK4f8ApV",
        "colab": {
          "base_uri": "https://localhost:8080/",
          "height": 530
        },
        "outputId": "fe84cb66-c15d-4014-cf7c-4f9759e5ab89"
      },
      "execution_count": null,
      "outputs": [
        {
          "output_type": "display_data",
          "data": {
            "text/plain": [
              "<Figure size 640x480 with 1 Axes>"
            ],
            "image/png": "[encoded data removed]"
          },
          "metadata": {}
        }
      ]
    },
    {
      "cell_type": "markdown",
      "source": [
        "**(0,4 ponto)** 1.k) Qual a correlação entre a *Avaliação IMDb* e *Avaliação externa*?"
      ],
      "metadata": {
        "id": "cByU_jPr55t4"
      }
    },
    {
      "cell_type": "code",
      "source": [
        "# Questao 1\n",
        "# 1.k)\n",
        "\n",
        "print(filmes['Avaliação IMDb (0 a 10)'].corr(filmes['Avaliação externa (0 a 100)']))"
      ],
      "metadata": {
        "id": "j20G1wtb55BE",
        "colab": {
          "base_uri": "https://localhost:8080/"
        },
        "outputId": "9fdd6c59-d45d-411a-a582-6c7e28a3d418"
      },
      "execution_count": null,
      "outputs": [
        {
          "output_type": "stream",
          "name": "stdout",
          "text": [
            "0.725949553838788\n"
          ]
        }
      ]
    },
    {
      "cell_type": "markdown",
      "source": [
        "**(0,4 ponto)** 1.l) Crie um gráfico de dispersão entre *Avaliação IMDb* e *Avaliação externa*."
      ],
      "metadata": {
        "id": "lxsOzsAn9GVi"
      }
    },
    {
      "cell_type": "code",
      "source": [
        "# Questao 1\n",
        "# 1.l)\n",
        "plt.scatter(filmes['Avaliação IMDb (0 a 10)'], filmes['Avaliação externa (0 a 100)'])\n",
        "plt.xlabel('Avaliação IMDb')\n",
        "plt.ylabel('Avaliação externa')\n",
        "plt.title('Avaliação IMDb X Avaliação externa')\n",
        "plt.show()\n"
      ],
      "metadata": {
        "id": "UMX4tji39GcQ",
        "colab": {
          "base_uri": "https://localhost:8080/",
          "height": 472
        },
        "outputId": "019702ba-4f97-47af-aaa6-7f9098f5fa7e"
      },
      "execution_count": null,
      "outputs": [
        {
          "output_type": "display_data",
          "data": {
            "text/plain": [
              "<Figure size 640x480 with 1 Axes>"
            ],
            "image/png": "[encoded data removed]"
          },
          "metadata": {}
        }
      ]
    },
    {
      "cell_type": "markdown",
      "source": [
        "###Questão 2: Previsão\n",
        "\n",
        "> A previsão do preço de imóveis é importante para compradores, vendedores, investidores e instituições financeiras. Ajuda na determinação do valor justo das propriedades, orienta decisões de compra e venda, auxilia investidores a identificar oportunidades lucrativas e apoia o planejamento financeiro a longo prazo. Além disso, é útil para o desenvolvimento urbano, o planejamento imobiliário e a tomada de decisões estratégicas. Em suma, a previsão do preço de imóveis é uma ferramenta valiosa no mercado imobiliário.\n",
        "\n",
        "> O tamanho do imóvel é um fator importante no preço de venda, pois influencia diretamente a quantidade de espaço habitável, atende às necessidades dos compradores, oferece potencial de uso e adaptação, é comparado a outras propriedades no mercado e pode ter um impacto no valor de revenda no futuro.\n",
        "\n",
        "A base de dados a seguir se refere às características de imóveis na cidade de Seattle (EUA) e contém as seguintes informações:\n",
        "\n",
        "- `preco`: Preço do imóvel (convertido para Reais R$)\n",
        "- `comodos`: Número de cômodos\n",
        "- `area`: Área (em metros quadrados)\n",
        "\n",
        "A partir dela, responda as questões seguintes:"
      ],
      "metadata": {
        "id": "oiNdPW_4B0J4"
      }
    },
    {
      "cell_type": "code",
      "source": [
        "# Questao 2\n",
        "# NAO ALTERE ESSES COMANDOS\n",
        "# A BASE SERA CARREGADA NO OBJETO `imoveis`\n",
        "# USE ESSE OBJETO PARA SEGUIR COM OS EXERCICIOS\n",
        "import gdown\n",
        "import pandas as pd\n",
        "\n",
        "url = 'https://drive.google.com/uc?id=1AL0SoMujyJ37tF_0rAR6Ri_nQMXszZbL'\n",
        "output = 'dados_imoveis.csv'\n",
        "gdown.download(url, output, quiet=True)\n",
        "\n",
        "imoveis = pd.read_csv('/content/dados_imoveis.csv')\n",
        "imoveis.head()"
      ],
      "metadata": {
        "id": "ac43o2gqtrDJ",
        "colab": {
          "base_uri": "https://localhost:8080/",
          "height": 206
        },
        "outputId": "c65de256-9810-4f18-a77a-bbeb44879680"
      },
      "execution_count": null,
      "outputs": [
        {
          "output_type": "execute_result",
          "data": {
            "text/plain": [
              "       preco  comodos        area\n",
              "0  1470000.0        2   81.753995\n",
              "1  1920000.0        4  141.211446\n",
              "2  4200000.0        4  271.274619\n",
              "3  1095000.0        3  101.263471\n",
              "4  3600000.0        5  270.345596"
            ],
            "text/html": [
              "\n",
              "  <div id=\"df-8998e276-fc25-4761-8b34-0c8cf06a6c9e\">\n",
              "    <div class=\"colab-df-container\">\n",
              "      <div>\n",
              "<style scoped>\n",
              "    .dataframe tbody tr th:only-of-type {\n",
              "        vertical-align: middle;\n",
              "    }\n",
              "\n",
              "    .dataframe tbody tr th {\n",
              "        vertical-align: top;\n",
              "    }\n",
              "\n",
              "    .dataframe thead th {\n",
              "        text-align: right;\n",
              "    }\n",
              "</style>\n",
              "<table border=\"1\" class=\"dataframe\">\n",
              "  <thead>\n",
              "    <tr style=\"text-align: right;\">\n",
              "      <th></th>\n",
              "      <th>preco</th>\n",
              "      <th>comodos</th>\n",
              "      <th>area</th>\n",
              "    </tr>\n",
              "  </thead>\n",
              "  <tbody>\n",
              "    <tr>\n",
              "      <th>0</th>\n",
              "      <td>1470000.0</td>\n",
              "      <td>2</td>\n",
              "      <td>81.753995</td>\n",
              "    </tr>\n",
              "    <tr>\n",
              "      <th>1</th>\n",
              "      <td>1920000.0</td>\n",
              "      <td>4</td>\n",
              "      <td>141.211446</td>\n",
              "    </tr>\n",
              "    <tr>\n",
              "      <th>2</th>\n",
              "      <td>4200000.0</td>\n",
              "      <td>4</td>\n",
              "      <td>271.274619</td>\n",
              "    </tr>\n",
              "    <tr>\n",
              "      <th>3</th>\n",
              "      <td>1095000.0</td>\n",
              "      <td>3</td>\n",
              "      <td>101.263471</td>\n",
              "    </tr>\n",
              "    <tr>\n",
              "      <th>4</th>\n",
              "      <td>3600000.0</td>\n",
              "      <td>5</td>\n",
              "      <td>270.345596</td>\n",
              "    </tr>\n",
              "  </tbody>\n",
              "</table>\n",
              "</div>\n",
              "      <button class=\"colab-df-convert\" onclick=\"convertToInteractive('df-8998e276-fc25-4761-8b34-0c8cf06a6c9e')\"\n",
              "              title=\"Convert this dataframe to an interactive table.\"\n",
              "              style=\"display:none;\">\n",
              "        \n",
              "  <svg xmlns=\"http://www.w3.org/2000/svg\" height=\"24px\"viewBox=\"0 0 24 24\"\n",
              "       width=\"24px\">\n",
              "    <path d=\"M0 0h24v24H0V0z\" fill=\"none\"/>\n",
              "    <path d=\"M18.56 5.44l.94 2.06.94-2.06 2.06-.94-2.06-.94-.94-2.06-.94 2.06-2.06.94zm-11 1L8.5 8.5l.94-2.06 2.06-.94-2.06-.94L8.5 2.5l-.94 2.06-2.06.94zm10 10l.94 2.06.94-2.06 2.06-.94-2.06-.94-.94-2.06-.94 2.06-2.06.94z\"/><path d=\"M17.41 7.96l-1.37-1.37c-.4-.4-.92-.59-1.43-.59-.52 0-1.04.2-1.43.59L10.3 9.45l-7.72 7.72c-.78.78-.78 2.05 0 2.83L4 21.41c.39.39.9.59 1.41.59.51 0 1.02-.2 1.41-.59l7.78-7.78 2.81-2.81c.8-.78.8-2.07 0-2.86zM5.41 20L4 18.59l7.72-7.72 1.47 1.35L5.41 20z\"/>\n",
              "  </svg>\n",
              "      </button>\n",
              "      \n",
              "  <style>\n",
              "    .colab-df-container {\n",
              "      display:flex;\n",
              "      flex-wrap:wrap;\n",
              "      gap: 12px;\n",
              "    }\n",
              "\n",
              "    .colab-df-convert {\n",
              "      background-color: #E8F0FE;\n",
              "      border: none;\n",
              "      border-radius: 50%;\n",
              "      cursor: pointer;\n",
              "      display: none;\n",
              "      fill: #1967D2;\n",
              "      height: 32px;\n",
              "      padding: 0 0 0 0;\n",
              "      width: 32px;\n",
              "    }\n",
              "\n",
              "    .colab-df-convert:hover {\n",
              "      background-color: #E2EBFA;\n",
              "      box-shadow: 0px 1px 2px rgba(60, 64, 67, 0.3), 0px 1px 3px 1px rgba(60, 64, 67, 0.15);\n",
              "      fill: #174EA6;\n",
              "    }\n",
              "\n",
              "    [theme=dark] .colab-df-convert {\n",
              "      background-color: #3B4455;\n",
              "      fill: #D2E3FC;\n",
              "    }\n",
              "\n",
              "    [theme=dark] .colab-df-convert:hover {\n",
              "      background-color: #434B5C;\n",
              "      box-shadow: 0px 1px 3px 1px rgba(0, 0, 0, 0.15);\n",
              "      filter: drop-shadow(0px 1px 2px rgba(0, 0, 0, 0.3));\n",
              "      fill: #FFFFFF;\n",
              "    }\n",
              "  </style>\n",
              "\n",
              "      <script>\n",
              "        const buttonEl =\n",
              "          document.querySelector('#df-8998e276-fc25-4761-8b34-0c8cf06a6c9e button.colab-df-convert');\n",
              "        buttonEl.style.display =\n",
              "          google.colab.kernel.accessAllowed ? 'block' : 'none';\n",
              "\n",
              "        async function convertToInteractive(key) {\n",
              "          const element = document.querySelector('#df-8998e276-fc25-4761-8b34-0c8cf06a6c9e');\n",
              "          const dataTable =\n",
              "            await google.colab.kernel.invokeFunction('convertToInteractive',\n",
              "                                                     [key], {});\n",
              "          if (!dataTable) return;\n",
              "\n",
              "          const docLinkHtml = 'Like what you see? Visit the ' +\n",
              "            '<a target=\"_blank\" href=https://colab.research.google.com/notebooks/data_table.ipynb>data table notebook</a>'\n",
              "            + ' to learn more about interactive tables.';\n",
              "          element.innerHTML = '';\n",
              "          dataTable['output_type'] = 'display_data';\n",
              "          await google.colab.output.renderOutput(dataTable, element);\n",
              "          const docLink = document.createElement('div');\n",
              "          docLink.innerHTML = docLinkHtml;\n",
              "          element.appendChild(docLink);\n",
              "        }\n",
              "      </script>\n",
              "    </div>\n",
              "  </div>\n",
              "  "
            ]
          },
          "metadata": {},
          "execution_count": 12
        }
      ]
    },
    {
      "cell_type": "markdown",
      "source": [
        "**(0,5 ponto)** 2.a) Qual o número mediano de comodos nessa região?"
      ],
      "metadata": {
        "id": "J1ZNe9ZF3ANi"
      }
    },
    {
      "cell_type": "code",
      "source": [
        "# Questao 2\n",
        "# 2.a)\n",
        "\n",
        "print(imoveis['comodos'].median())"
      ],
      "metadata": {
        "id": "Jy2VYKLzJIr3",
        "colab": {
          "base_uri": "https://localhost:8080/"
        },
        "outputId": "14d3e9ef-24b7-46b3-9309-44f1d2880c23"
      },
      "execution_count": null,
      "outputs": [
        {
          "output_type": "stream",
          "name": "stdout",
          "text": [
            "3.0\n"
          ]
        }
      ]
    },
    {
      "cell_type": "markdown",
      "source": [
        "**(0,5 ponto)** 2.b) Calcule a correlação entre `area` e `preco`."
      ],
      "metadata": {
        "id": "tGGwPrau4GP4"
      }
    },
    {
      "cell_type": "code",
      "source": [
        "# Questao 2\n",
        "# 2.b)\n",
        "\n",
        "print(imoveis['area'].corr(imoveis['preco']))"
      ],
      "metadata": {
        "id": "jc9QkMgr3qOo",
        "colab": {
          "base_uri": "https://localhost:8080/"
        },
        "outputId": "5b440946-cc71-4ecd-82b7-d889bd22633c"
      },
      "execution_count": 147,
      "outputs": [
        {
          "output_type": "stream",
          "name": "stdout",
          "text": [
            "0.6645184769977531\n"
          ]
        }
      ]
    },
    {
      "cell_type": "markdown",
      "source": [
        "**(0,5 ponto)** 2.c) Crie uma base de `treinamento` e de `teste` para o ajuste de um modelo linear. Utilize **75%** dos dados como conjunto de treinamento."
      ],
      "metadata": {
        "id": "iPVo0ptw4X62"
      }
    },
    {
      "cell_type": "code",
      "source": [
        "# Questao 2\n",
        "# 2.c)\n",
        "from sklearn.model_selection import train_test_split\n",
        "\n",
        "# Definindo conjunto de treino e teste simultaneamente\n",
        "treino, teste = train_test_split(imoveis, train_size=0.75, random_state=123)\n",
        "\n"
      ],
      "metadata": {
        "id": "OAwWRZy23wCV"
      },
      "execution_count": null,
      "outputs": []
    },
    {
      "cell_type": "markdown",
      "source": [
        "**(0,5 ponto)** 2.d) Treine o modelo linear utilizando a base de `treino`."
      ],
      "metadata": {
        "id": "53Y31_Y_5hXW"
      }
    },
    {
      "cell_type": "code",
      "source": [
        "# Questao 2\n",
        "# 2.d)\n",
        "import numpy as np\n",
        "from sklearn.linear_model import LinearRegression\n",
        "import statsmodels.api as sm\n",
        "\n",
        "# Definindo input e output - treinamento\n",
        "X_treino = sm.add_constant(treino['area'])\n",
        "y_treino = treino['preco']\n",
        "\n",
        "# Definindo o modelo de regressao linear\n",
        "reg = LinearRegression()\n",
        "\n",
        "# Estimando o modelo\n",
        "modelo_estimado = reg.fit(X = X_treino,\n",
        "                          y = y_treino)\n"
      ],
      "metadata": {
        "id": "Qudm0yTT3yav"
      },
      "execution_count": null,
      "outputs": []
    },
    {
      "cell_type": "markdown",
      "source": [
        "**(0,5 ponto)** 2.e) Avalie a `performance` do ajuste do modelo estimado através do **coeficiente de determinação** $R^2$."
      ],
      "metadata": {
        "id": "xJwX-0IB561N"
      }
    },
    {
      "cell_type": "code",
      "source": [
        "# Questao 2\n",
        "# 2.e)\n",
        "\n",
        "modelo_estimado.score(X = X_treino, y = y_treino)"
      ],
      "metadata": {
        "id": "fU9DWmqj30qc",
        "colab": {
          "base_uri": "https://localhost:8080/"
        },
        "outputId": "2c0c2bb6-f921-4037-ad35-fe438de91e8e"
      },
      "execution_count": null,
      "outputs": [
        {
          "output_type": "execute_result",
          "data": {
            "text/plain": [
              "0.43360353774708305"
            ]
          },
          "metadata": {},
          "execution_count": 18
        }
      ]
    },
    {
      "cell_type": "markdown",
      "source": [
        "**(0,5 ponto)** 2.f) Faça um gráfico de dispersão que exibe os dados observados e a reta estimada pelo modelo linear."
      ],
      "metadata": {
        "id": "8yt0UmYp6rPj"
      }
    },
    {
      "cell_type": "code",
      "source": [
        "# Questao 2\n",
        "# 2.f)\n",
        "\n",
        "# Grafico de dispersao - conjunto de teste\n",
        "teste.plot.scatter(x = 'area', y = 'preco', label='Observado')\n",
        "\n",
        "# Desenhando a linha de previsao\n",
        "# alfa (tambem chamado de intercepto)\n",
        "alfa = modelo_estimado.intercept_\n",
        "\n",
        "# beta\n",
        "beta = modelo_estimado.coef_[1]\n",
        "\n",
        "x_prev = np.linspace(teste['area'].min(),\n",
        "                     teste['area'].max(),\n",
        "                     100).reshape(-1, 1)\n",
        "y_prev = alfa + beta * x_prev\n",
        "plt.plot(x_prev, y_prev, color='red', label='Modelo estimado')\n",
        "\n",
        "# Rotulos e titulo\n",
        "plt.xlabel(\"Área\")\n",
        "plt.ylabel(\"Preço\")\n",
        "plt.title('Conjunto de teste')\n",
        "\n",
        "# Legenda\n",
        "plt.legend()\n",
        "\n",
        "# Exibindo o grafico\n",
        "plt.show()"
      ],
      "metadata": {
        "id": "w2v35fT-37bm",
        "colab": {
          "base_uri": "https://localhost:8080/",
          "height": 472
        },
        "outputId": "dccf5b03-3b20-44bc-bb9b-5b2bf957469b"
      },
      "execution_count": null,
      "outputs": [
        {
          "output_type": "display_data",
          "data": {
            "text/plain": [
              "<Figure size 640x480 with 1 Axes>"
            ],
            "image/png": "[encoded data removed]"
          },
          "metadata": {}
        }
      ]
    },
    {
      "cell_type": "markdown",
      "source": [
        "###Questão 3: Classificação\n",
        "\n",
        "> A previsão do *churn*, ou taxa de rotatividade de clientes, é de extrema importância para empresas de telecomunicações. O *churn* representa a perda de clientes em um determinado período, e sua redução é um objetivo crucial para garantir a sustentabilidade e o crescimento dessas empresas.\n",
        "\n",
        "> Em resumo, a previsão do *churn* desempenha um papel fundamental no sucesso das empresas de telecomunicações. Ela permite que as empresas tomem medidas proativas para reter os clientes existentes, melhorem seus serviços, aumentem a competitividade, impulsionem a receita e melhorem sua rentabilidade.\n",
        "\n",
        "> A quantidade de minutos de uso em ligações pode fornecer *insights* valiosos para a previsão do *churn*. Monitorar e analisar esses dados pode ajudar as empresas a entender o engajamento dos clientes, a percepção de valor, a competição com concorrentes e a identificação de mudanças significativas no comportamento do cliente, permitindo que tomem medidas para reter os clientes em risco de *churn*.\n",
        "\n",
        "A base de dados a seguir se refere às características de clientes em uma companhia de telecomunicações móveis e contém as seguintes informações:\n",
        "\n",
        "- `churn`: Cliente cancelou o plano (0: Não; 1: Sim)\n",
        "- `minutos_uso`: Acumulado de minutos em ligações utilizados pelo cliente no mês\n",
        "\n",
        "A partir dela, responda as questões seguintes:"
      ],
      "metadata": {
        "id": "G-bHJP9A8s5V"
      }
    },
    {
      "cell_type": "code",
      "source": [
        "# Questao 3\n",
        "# NAO ALTERE ESSES COMANDOS\n",
        "# A BASE SERA CARREGADA NO OBJETO `clientes`\n",
        "# USE ESSE OBJETO PARA SEGUIR COM OS EXERCICIOS\n",
        "import gdown\n",
        "import pandas as pd\n",
        "\n",
        "url = 'https://drive.google.com/uc?id=14xWzfpLuzobIlkxmOn2HAbeNUA1zpDP7'\n",
        "output = 'dados_churn.csv'\n",
        "gdown.download(url, output, quiet=True)\n",
        "\n",
        "clientes = pd.read_csv('/content/dados_churn.csv')\n",
        "clientes.head()\n",
        "\n"
      ],
      "metadata": {
        "id": "ICf_gFwKWgd4",
        "colab": {
          "base_uri": "https://localhost:8080/",
          "height": 206
        },
        "outputId": "c6ab1a54-7b87-4ded-a2f8-2aad6480e996"
      },
      "execution_count": 140,
      "outputs": [
        {
          "output_type": "execute_result",
          "data": {
            "text/plain": [
              "   churn  minutos_uso\n",
              "0      0        265.1\n",
              "1      0        161.6\n",
              "2      0        243.4\n",
              "3      0        299.4\n",
              "4      0        166.7"
            ],
            "text/html": [
              "\n",
              "  <div id=\"df-54451b6d-3cb6-492c-a359-354c723b39cd\">\n",
              "    <div class=\"colab-df-container\">\n",
              "      <div>\n",
              "<style scoped>\n",
              "    .dataframe tbody tr th:only-of-type {\n",
              "        vertical-align: middle;\n",
              "    }\n",
              "\n",
              "    .dataframe tbody tr th {\n",
              "        vertical-align: top;\n",
              "    }\n",
              "\n",
              "    .dataframe thead th {\n",
              "        text-align: right;\n",
              "    }\n",
              "</style>\n",
              "<table border=\"1\" class=\"dataframe\">\n",
              "  <thead>\n",
              "    <tr style=\"text-align: right;\">\n",
              "      <th></th>\n",
              "      <th>churn</th>\n",
              "      <th>minutos_uso</th>\n",
              "    </tr>\n",
              "  </thead>\n",
              "  <tbody>\n",
              "    <tr>\n",
              "      <th>0</th>\n",
              "      <td>0</td>\n",
              "      <td>265.1</td>\n",
              "    </tr>\n",
              "    <tr>\n",
              "      <th>1</th>\n",
              "      <td>0</td>\n",
              "      <td>161.6</td>\n",
              "    </tr>\n",
              "    <tr>\n",
              "      <th>2</th>\n",
              "      <td>0</td>\n",
              "      <td>243.4</td>\n",
              "    </tr>\n",
              "    <tr>\n",
              "      <th>3</th>\n",
              "      <td>0</td>\n",
              "      <td>299.4</td>\n",
              "    </tr>\n",
              "    <tr>\n",
              "      <th>4</th>\n",
              "      <td>0</td>\n",
              "      <td>166.7</td>\n",
              "    </tr>\n",
              "  </tbody>\n",
              "</table>\n",
              "</div>\n",
              "      <button class=\"colab-df-convert\" onclick=\"convertToInteractive('df-54451b6d-3cb6-492c-a359-354c723b39cd')\"\n",
              "              title=\"Convert this dataframe to an interactive table.\"\n",
              "              style=\"display:none;\">\n",
              "        \n",
              "  <svg xmlns=\"http://www.w3.org/2000/svg\" height=\"24px\"viewBox=\"0 0 24 24\"\n",
              "       width=\"24px\">\n",
              "    <path d=\"M0 0h24v24H0V0z\" fill=\"none\"/>\n",
              "    <path d=\"M18.56 5.44l.94 2.06.94-2.06 2.06-.94-2.06-.94-.94-2.06-.94 2.06-2.06.94zm-11 1L8.5 8.5l.94-2.06 2.06-.94-2.06-.94L8.5 2.5l-.94 2.06-2.06.94zm10 10l.94 2.06.94-2.06 2.06-.94-2.06-.94-.94-2.06-.94 2.06-2.06.94z\"/><path d=\"M17.41 7.96l-1.37-1.37c-.4-.4-.92-.59-1.43-.59-.52 0-1.04.2-1.43.59L10.3 9.45l-7.72 7.72c-.78.78-.78 2.05 0 2.83L4 21.41c.39.39.9.59 1.41.59.51 0 1.02-.2 1.41-.59l7.78-7.78 2.81-2.81c.8-.78.8-2.07 0-2.86zM5.41 20L4 18.59l7.72-7.72 1.47 1.35L5.41 20z\"/>\n",
              "  </svg>\n",
              "      </button>\n",
              "      \n",
              "  <style>\n",
              "    .colab-df-container {\n",
              "      display:flex;\n",
              "      flex-wrap:wrap;\n",
              "      gap: 12px;\n",
              "    }\n",
              "\n",
              "    .colab-df-convert {\n",
              "      background-color: #E8F0FE;\n",
              "      border: none;\n",
              "      border-radius: 50%;\n",
              "      cursor: pointer;\n",
              "      display: none;\n",
              "      fill: #1967D2;\n",
              "      height: 32px;\n",
              "      padding: 0 0 0 0;\n",
              "      width: 32px;\n",
              "    }\n",
              "\n",
              "    .colab-df-convert:hover {\n",
              "      background-color: #E2EBFA;\n",
              "      box-shadow: 0px 1px 2px rgba(60, 64, 67, 0.3), 0px 1px 3px 1px rgba(60, 64, 67, 0.15);\n",
              "      fill: #174EA6;\n",
              "    }\n",
              "\n",
              "    [theme=dark] .colab-df-convert {\n",
              "      background-color: #3B4455;\n",
              "      fill: #D2E3FC;\n",
              "    }\n",
              "\n",
              "    [theme=dark] .colab-df-convert:hover {\n",
              "      background-color: #434B5C;\n",
              "      box-shadow: 0px 1px 3px 1px rgba(0, 0, 0, 0.15);\n",
              "      filter: drop-shadow(0px 1px 2px rgba(0, 0, 0, 0.3));\n",
              "      fill: #FFFFFF;\n",
              "    }\n",
              "  </style>\n",
              "\n",
              "      <script>\n",
              "        const buttonEl =\n",
              "          document.querySelector('#df-54451b6d-3cb6-492c-a359-354c723b39cd button.colab-df-convert');\n",
              "        buttonEl.style.display =\n",
              "          google.colab.kernel.accessAllowed ? 'block' : 'none';\n",
              "\n",
              "        async function convertToInteractive(key) {\n",
              "          const element = document.querySelector('#df-54451b6d-3cb6-492c-a359-354c723b39cd');\n",
              "          const dataTable =\n",
              "            await google.colab.kernel.invokeFunction('convertToInteractive',\n",
              "                                                     [key], {});\n",
              "          if (!dataTable) return;\n",
              "\n",
              "          const docLinkHtml = 'Like what you see? Visit the ' +\n",
              "            '<a target=\"_blank\" href=https://colab.research.google.com/notebooks/data_table.ipynb>data table notebook</a>'\n",
              "            + ' to learn more about interactive tables.';\n",
              "          element.innerHTML = '';\n",
              "          dataTable['output_type'] = 'display_data';\n",
              "          await google.colab.output.renderOutput(dataTable, element);\n",
              "          const docLink = document.createElement('div');\n",
              "          docLink.innerHTML = docLinkHtml;\n",
              "          element.appendChild(docLink);\n",
              "        }\n",
              "      </script>\n",
              "    </div>\n",
              "  </div>\n",
              "  "
            ]
          },
          "metadata": {},
          "execution_count": 140
        }
      ]
    },
    {
      "cell_type": "markdown",
      "source": [
        "**(0,5 ponto)** 3.a) Calcule a média de uso de ligações em minutos para clientes que cancelaram o plano (`churn == 1`) e não cancelaram o plano (`churn == 0`). Há diferença?"
      ],
      "metadata": {
        "id": "S8-PnbtYXfXQ"
      }
    },
    {
      "cell_type": "code",
      "source": [
        "# Questao 3\n",
        "# 3.a)\n",
        "# Médias de minutos das ligações dos clientes que cancelaram\n",
        "cancelaram = clientes[clientes['churn'] == 1]\n",
        "minutos_cancelamento = cancelaram['minutos_uso'].mean()\n",
        "print(f'Média de ligações de clientes que cancelaram: {minutos_cancelamento}')\n",
        "\n",
        "# Médias de minutos das ligações dos clientes que não cancelaram\n",
        "cancelaram = clientes[clientes['churn'] == 0]\n",
        "minutos_ncancelamento = cancelaram['minutos_uso'].mean()\n",
        "print(f'Média de ligações de clientes que não cancelaram: {minutos_ncancelamento}')"
      ],
      "metadata": {
        "id": "d9Qvs1yIXfig",
        "colab": {
          "base_uri": "https://localhost:8080/"
        },
        "outputId": "8c8be044-6619-4ba2-e619-9c2cb58641ed"
      },
      "execution_count": 141,
      "outputs": [
        {
          "output_type": "stream",
          "name": "stdout",
          "text": [
            "Média de ligações de clientes que cancelaram: 107.76894824707847\n",
            "Média de ligações de clientes que não cancelaram: 195.55113386978786\n"
          ]
        }
      ]
    },
    {
      "cell_type": "markdown",
      "source": [
        "**(0,5 ponto)** 3.b) Crie uma base de `treinamento` e de `teste` para o ajuste de um modelo logístico. Utilize 75% dos dados como conjunto de treinamento."
      ],
      "metadata": {
        "id": "2Nr_o9y5N8Kb"
      }
    },
    {
      "cell_type": "code",
      "source": [
        "# Questao 3\n",
        "# 3.b)\n",
        "from sklearn.model_selection import train_test_split\n",
        "\n",
        "# Definindo conjunto de treino e teste simultaneamente\n",
        "treino, teste = train_test_split(clientes, train_size=0.75, random_state=123)\n"
      ],
      "metadata": {
        "id": "xpOZokWoOGZy"
      },
      "execution_count": 142,
      "outputs": []
    },
    {
      "cell_type": "markdown",
      "source": [
        "**(0,5 ponto)** 3.c) Treine o modelo logístico utilizando a base de `treino`."
      ],
      "metadata": {
        "id": "kzqhsU2JKVcD"
      }
    },
    {
      "cell_type": "code",
      "source": [
        "# Questao 3\n",
        "# 3.c)\n",
        "import numpy as np\n",
        "from sklearn.linear_model import LogisticRegression\n",
        "import statsmodels.api as sm\n",
        "\n",
        "# Definindo input e output - treinamento\n",
        "X_treino = sm.add_constant(treino['minutos_uso'])\n",
        "y_treino = treino['churn']\n",
        "\n",
        "\n",
        "# Definindo o modelo de regressao logistica\n",
        "reg = LogisticRegression()\n",
        "\n",
        "# Estimando o modelo\n",
        "modelo_estimado = reg.fit(X = X_treino,\n",
        "                          y = y_treino)\n"
      ],
      "metadata": {
        "id": "BtH_sMGCLSlM"
      },
      "execution_count": 143,
      "outputs": []
    },
    {
      "cell_type": "markdown",
      "source": [
        "**(0,5 ponto)** 3.d) Defina `input` e `output` para a base de `teste`. Crie um objeto chamado `previsao` com as previsões feitas para a base de teste."
      ],
      "metadata": {
        "id": "jYg40VxYZEDP"
      }
    },
    {
      "cell_type": "code",
      "source": [
        "# Questao 3\n",
        "# 3.d)\n",
        "\n",
        "# Definindo input e output - teste\n",
        "X_teste = sm.add_constant(teste['minutos_uso'])\n",
        "y_teste = teste['churn']\n",
        "\n",
        "# Previsao\n",
        "previsao = modelo_estimado.predict(X = X_teste)\n",
        "\n"
      ],
      "metadata": {
        "id": "she6SKXRZEKQ"
      },
      "execution_count": 144,
      "outputs": []
    },
    {
      "cell_type": "markdown",
      "source": [
        "**(0,5 ponto)** 3.e) Utilizando as previsões realizadas no item anterior, avalie a `performance` do modelo estimado utilizando:\n",
        "*    Matriz de confusão\n",
        "*    Precisão\n",
        "*    Sensibilidade"
      ],
      "metadata": {
        "id": "WgHWYtsiZuS9"
      }
    },
    {
      "cell_type": "code",
      "source": [
        "# Questao 3\n",
        "# 3.e)\n",
        "from sklearn.metrics import confusion_matrix\n",
        "from sklearn.metrics import precision_score\n",
        "from sklearn.metrics import recall_score\n",
        "\n",
        "# Matriz de confusao\n",
        "print(f'Matriz de confusão: {confusion_matrix(y_teste, previsao)}')\n",
        "\n",
        "# Precisao\n",
        "print(f'Precisão: {precision_score(y_teste, previsao)}')\n",
        "\n",
        "# Sensibilidade\n",
        "print(f'Sensibilidade: {recall_score(y_teste, previsao)}')\n"
      ],
      "metadata": {
        "id": "u0v3U0nIZugf",
        "colab": {
          "base_uri": "https://localhost:8080/"
        },
        "outputId": "327b3135-2a50-44bf-a40d-6ca4ed9e8a7d"
      },
      "execution_count": 145,
      "outputs": [
        {
          "output_type": "stream",
          "name": "stdout",
          "text": [
            "Matriz de confusão: [[648  28]\n",
            " [ 66  92]]\n",
            "Precisão: 0.7666666666666667\n",
            "Sensibilidade: 0.5822784810126582\n"
          ]
        }
      ]
    }
  ],
  "metadata": {
    "colab": {
      "provenance": [],
      "toc_visible": true,
      "include_colab_link": true
    },
    "kernelspec": {
      "display_name": "Python 3",
      "name": "python3"
    },
    "language_info": {
      "name": "python"
    }
  },
  "nbformat": 4,
  "nbformat_minor": 0
}