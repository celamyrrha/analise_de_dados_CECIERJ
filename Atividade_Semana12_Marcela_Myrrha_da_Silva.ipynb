{
  "nbformat": 4,
  "nbformat_minor": 0,
  "metadata": {
    "colab": {
      "provenance": [],
      "include_colab_link": true
    },
    "kernelspec": {
      "name": "python3",
      "display_name": "Python 3"
    },
    "language_info": {
      "name": "python"
    }
  },
  "cells": [
    {
      "cell_type": "markdown",
      "metadata": {
        "id": "view-in-github",
        "colab_type": "text"
      },
      "source": [
        "<a href=\"https://colab.research.google.com/github/celamyrrha/analise_de_dados_CECIERJ/blob/main/Atividade_Semana12_Marcela_Myrrha_da_Silva.ipynb\" target=\"_parent\"><img src=\"https://colab.research.google.com/assets/colab-badge.svg\" alt=\"Open In Colab\"/></a>"
      ]
    },
    {
      "cell_type": "markdown",
      "source": [
        "# Atividade da Semana 12\n",
        "\n",
        "Esta é atividade semanal sugerida. Você deverá preenchê-la e enviá-la dentro do prazo (até o fechamento da semana corrente)."
      ],
      "metadata": {
        "id": "bPISwE0Is_Pu"
      }
    },
    {
      "cell_type": "markdown",
      "source": [
        "###Questão 1\n",
        "\n",
        "O número de veículos emplacados (ou seja, veículos que foram comprados novos) funciona como um indicador econômico que demonstra o poder aquisitivo da população em geral. Estes dados também são úteis como indicadores de saúde, uma vez que, uma frota mais nova, polui menos o ar e o número de casos de doenças respiratórias em grandes centros é reduzido. \n",
        "\n",
        "Sendo assim, a partir dos dados filtrados para 2020, calcule a média, mediana, mínimo, máximo, amplitude, variância e desvio padrão."
      ],
      "metadata": {
        "id": "RAg7REeatl9X"
      }
    },
    {
      "cell_type": "code",
      "source": [
        "# Instalando o pacote 'ipeadatapy'\n",
        "!pip install ipeadatapy"
      ],
      "metadata": {
        "id": "Ur80LWz2HZSZ",
        "colab": {
          "base_uri": "https://localhost:8080/"
        },
        "outputId": "3179601a-afa8-4bb8-c9b8-be96df2b0304"
      },
      "execution_count": 1,
      "outputs": [
        {
          "output_type": "stream",
          "name": "stdout",
          "text": [
            "Looking in indexes: https://pypi.org/simple, https://us-python.pkg.dev/colab-wheels/public/simple/\n",
            "Collecting ipeadatapy\n",
            "  Downloading ipeadatapy-0.1.9-py3-none-any.whl (10 kB)\n",
            "Requirement already satisfied: pandas in /usr/local/lib/python3.10/dist-packages (from ipeadatapy) (1.5.3)\n",
            "Requirement already satisfied: requests in /usr/local/lib/python3.10/dist-packages (from ipeadatapy) (2.27.1)\n",
            "Requirement already satisfied: python-dateutil>=2.8.1 in /usr/local/lib/python3.10/dist-packages (from pandas->ipeadatapy) (2.8.2)\n",
            "Requirement already satisfied: pytz>=2020.1 in /usr/local/lib/python3.10/dist-packages (from pandas->ipeadatapy) (2022.7.1)\n",
            "Requirement already satisfied: numpy>=1.21.0 in /usr/local/lib/python3.10/dist-packages (from pandas->ipeadatapy) (1.22.4)\n",
            "Requirement already satisfied: urllib3<1.27,>=1.21.1 in /usr/local/lib/python3.10/dist-packages (from requests->ipeadatapy) (1.26.15)\n",
            "Requirement already satisfied: certifi>=2017.4.17 in /usr/local/lib/python3.10/dist-packages (from requests->ipeadatapy) (2022.12.7)\n",
            "Requirement already satisfied: charset-normalizer~=2.0.0 in /usr/local/lib/python3.10/dist-packages (from requests->ipeadatapy) (2.0.12)\n",
            "Requirement already satisfied: idna<4,>=2.5 in /usr/local/lib/python3.10/dist-packages (from requests->ipeadatapy) (3.4)\n",
            "Requirement already satisfied: six>=1.5 in /usr/local/lib/python3.10/dist-packages (from python-dateutil>=2.8.1->pandas->ipeadatapy) (1.16.0)\n",
            "Installing collected packages: ipeadatapy\n",
            "Successfully installed ipeadatapy-0.1.9\n"
          ]
        }
      ]
    },
    {
      "cell_type": "code",
      "execution_count": 2,
      "metadata": {
        "id": "izFFVN2Nst-F",
        "colab": {
          "base_uri": "https://localhost:8080/"
        },
        "outputId": "96bfe2f3-30a1-4647-8409-baa3437f23e9"
      },
      "outputs": [
        {
          "output_type": "execute_result",
          "data": {
            "text/plain": [
              "360    154556.0\n",
              "361    165109.0\n",
              "362    131230.0\n",
              "363     39487.0\n",
              "364     44133.0\n",
              "365    102379.0\n",
              "366    134927.0\n",
              "367    142019.0\n",
              "368    161071.0\n",
              "369    168441.0\n",
              "370    177550.0\n",
              "371    194626.0\n",
              "Name: emplacamentos, dtype: float64"
            ]
          },
          "metadata": {},
          "execution_count": 2
        }
      ],
      "source": [
        "# Questao 1\n",
        "\n",
        "# Carregando pacotes\n",
        "import pandas as pd\n",
        "import ipeadatapy\n",
        "\n",
        "# Obtendo serie com dados sobre emplacamento de veículos\n",
        "emplacamentos = ipeadatapy.timeseries('FENABRAVE12_VENDAUTO12')\n",
        "emplacamentos.reset_index(inplace=True)\n",
        "emplacamentos = emplacamentos.loc[(emplacamentos[\"DATE\"] >= \"2020-01-01\") & (emplacamentos[\"DATE\"] < \"2021-01-01\"), \n",
        "                                  \"VALUE (Unidade)\"]\n",
        "emplacamentos.rename(\"emplacamentos\", inplace=True)\n",
        "emplacamentos"
      ]
    },
    {
      "cell_type": "code",
      "source": [
        "# Questao 1 (continuacao)\n",
        "\n",
        "# Calcule as estatísticas de interesse\n",
        "print('média:',emplacamentos.mean()) #média\n",
        "\n",
        "print('mediana:',emplacamentos.median()) #mediana\n",
        "\n",
        "print('máximo:',emplacamentos.max()) #máximo\n",
        "\n",
        "print('mínimo:',emplacamentos.min()) #mínimo\n",
        "\n",
        "print('amplitude:',emplacamentos.max() - emplacamentos.min()) #amplitude\n",
        "\n",
        "print('variância:',emplacamentos.var()) #variância\n",
        "\n",
        "print('desvio padrão:',emplacamentos.std()) #desvio padrão\n",
        "\n",
        "\n"
      ],
      "metadata": {
        "id": "RiMfakApHzFP",
        "colab": {
          "base_uri": "https://localhost:8080/"
        },
        "outputId": "8360c8f7-9b42-4830-8eac-8c715c96bebf"
      },
      "execution_count": 10,
      "outputs": [
        {
          "output_type": "stream",
          "name": "stdout",
          "text": [
            "média: 134627.33333333334\n",
            "mediana: 148287.5\n",
            "máximo: 194626.0\n",
            "mínimo: 39487.0\n",
            "amplitude: 155139.0\n",
            "variância: 2450749221.69697\n",
            "desvio padrão: 49505.04238657886\n"
          ]
        }
      ]
    },
    {
      "cell_type": "markdown",
      "source": [
        "###Questão 2\n",
        "\n",
        "Ao observar a base de dados utilizada na questão anterior, argumente por que a moda não é uma medida útil para descrever o número de emplacamento de automóveis ao longo dos meses de 2020."
      ],
      "metadata": {
        "id": "3xNawcemugMY"
      }
    },
    {
      "cell_type": "markdown",
      "source": [
        "> Dê 2 cliques e insira sua resposta aqui:\n",
        "\n",
        "Pois se fizermos a moda da sequência, vemos que é uma série amodal, temos vários valores que distintos, não demonstrando uma tendência.\n",
        "\n"
      ],
      "metadata": {
        "id": "cC5DZfq3MxGT"
      }
    },
    {
      "cell_type": "markdown",
      "source": [
        "###Questão 3\n",
        "\n",
        "O Imposto sobre Produtos Industrializados, cuja sigla é IPI, é um imposto federal, ou seja, somente a União pode instituí-lo ou modificá-lo, sobre produtos industrializados no Brasil. Abaixo, obtemos os dados da arrecadação do IPI sobre automóveis em 2020.\n",
        "\n",
        "Calcule a correlação entre o número de veículos emplacados e o IPI arrecadado em 2020."
      ],
      "metadata": {
        "id": "sbXN8AoMuxvx"
      }
    },
    {
      "cell_type": "code",
      "source": [
        "# Questao 3\n",
        "\n",
        "# Obtendo serie com dados sobre IPI arrecadado sobre automóveis\n",
        "ipi = ipeadatapy.timeseries('SRF12_IPIVEI12')\n",
        "ipi.reset_index(inplace=True)\n",
        "ipi = ipi.loc[(ipi[\"DATE\"] >= \"2020-01-01\") & (ipi[\"DATE\"] < \"2021-01-01\"), \n",
        "                                  \"VALUE (R$)\"]\n",
        "ipi.rename(\"ipi\", inplace=True)\n",
        "\n",
        "carros = pd.concat([emplacamentos.reset_index(drop=True),\n",
        "                    ipi.reset_index(drop=True)],\n",
        "                   axis=1)\n",
        "carros"
      ],
      "metadata": {
        "id": "YxUJOpR2uyFh",
        "colab": {
          "base_uri": "https://localhost:8080/",
          "height": 426
        },
        "outputId": "7532e679-116c-4ec8-a36a-ef112d1a8984"
      },
      "execution_count": 11,
      "outputs": [
        {
          "output_type": "execute_result",
          "data": {
            "text/plain": [
              "    emplacamentos         ipi\n",
              "0        154556.0  247.920006\n",
              "1        165109.0  177.051705\n",
              "2        131230.0  247.665279\n",
              "3         39487.0  158.782252\n",
              "4         44133.0   55.799690\n",
              "5        102379.0   84.358197\n",
              "6        134927.0  166.653005\n",
              "7        142019.0  250.102903\n",
              "8        161071.0  292.598436\n",
              "9        168441.0  322.059536\n",
              "10       177550.0  300.895377\n",
              "11       194626.0  329.220928"
            ],
            "text/html": [
              "\n",
              "  <div id=\"df-3e703dd8-ec36-4cc3-b53d-4f60ec1ea9ac\">\n",
              "    <div class=\"colab-df-container\">\n",
              "      <div>\n",
              "<style scoped>\n",
              "    .dataframe tbody tr th:only-of-type {\n",
              "        vertical-align: middle;\n",
              "    }\n",
              "\n",
              "    .dataframe tbody tr th {\n",
              "        vertical-align: top;\n",
              "    }\n",
              "\n",
              "    .dataframe thead th {\n",
              "        text-align: right;\n",
              "    }\n",
              "</style>\n",
              "<table border=\"1\" class=\"dataframe\">\n",
              "  <thead>\n",
              "    <tr style=\"text-align: right;\">\n",
              "      <th></th>\n",
              "      <th>emplacamentos</th>\n",
              "      <th>ipi</th>\n",
              "    </tr>\n",
              "  </thead>\n",
              "  <tbody>\n",
              "    <tr>\n",
              "      <th>0</th>\n",
              "      <td>154556.0</td>\n",
              "      <td>247.920006</td>\n",
              "    </tr>\n",
              "    <tr>\n",
              "      <th>1</th>\n",
              "      <td>165109.0</td>\n",
              "      <td>177.051705</td>\n",
              "    </tr>\n",
              "    <tr>\n",
              "      <th>2</th>\n",
              "      <td>131230.0</td>\n",
              "      <td>247.665279</td>\n",
              "    </tr>\n",
              "    <tr>\n",
              "      <th>3</th>\n",
              "      <td>39487.0</td>\n",
              "      <td>158.782252</td>\n",
              "    </tr>\n",
              "    <tr>\n",
              "      <th>4</th>\n",
              "      <td>44133.0</td>\n",
              "      <td>55.799690</td>\n",
              "    </tr>\n",
              "    <tr>\n",
              "      <th>5</th>\n",
              "      <td>102379.0</td>\n",
              "      <td>84.358197</td>\n",
              "    </tr>\n",
              "    <tr>\n",
              "      <th>6</th>\n",
              "      <td>134927.0</td>\n",
              "      <td>166.653005</td>\n",
              "    </tr>\n",
              "    <tr>\n",
              "      <th>7</th>\n",
              "      <td>142019.0</td>\n",
              "      <td>250.102903</td>\n",
              "    </tr>\n",
              "    <tr>\n",
              "      <th>8</th>\n",
              "      <td>161071.0</td>\n",
              "      <td>292.598436</td>\n",
              "    </tr>\n",
              "    <tr>\n",
              "      <th>9</th>\n",
              "      <td>168441.0</td>\n",
              "      <td>322.059536</td>\n",
              "    </tr>\n",
              "    <tr>\n",
              "      <th>10</th>\n",
              "      <td>177550.0</td>\n",
              "      <td>300.895377</td>\n",
              "    </tr>\n",
              "    <tr>\n",
              "      <th>11</th>\n",
              "      <td>194626.0</td>\n",
              "      <td>329.220928</td>\n",
              "    </tr>\n",
              "  </tbody>\n",
              "</table>\n",
              "</div>\n",
              "      <button class=\"colab-df-convert\" onclick=\"convertToInteractive('df-3e703dd8-ec36-4cc3-b53d-4f60ec1ea9ac')\"\n",
              "              title=\"Convert this dataframe to an interactive table.\"\n",
              "              style=\"display:none;\">\n",
              "        \n",
              "  <svg xmlns=\"http://www.w3.org/2000/svg\" height=\"24px\"viewBox=\"0 0 24 24\"\n",
              "       width=\"24px\">\n",
              "    <path d=\"M0 0h24v24H0V0z\" fill=\"none\"/>\n",
              "    <path d=\"M18.56 5.44l.94 2.06.94-2.06 2.06-.94-2.06-.94-.94-2.06-.94 2.06-2.06.94zm-11 1L8.5 8.5l.94-2.06 2.06-.94-2.06-.94L8.5 2.5l-.94 2.06-2.06.94zm10 10l.94 2.06.94-2.06 2.06-.94-2.06-.94-.94-2.06-.94 2.06-2.06.94z\"/><path d=\"M17.41 7.96l-1.37-1.37c-.4-.4-.92-.59-1.43-.59-.52 0-1.04.2-1.43.59L10.3 9.45l-7.72 7.72c-.78.78-.78 2.05 0 2.83L4 21.41c.39.39.9.59 1.41.59.51 0 1.02-.2 1.41-.59l7.78-7.78 2.81-2.81c.8-.78.8-2.07 0-2.86zM5.41 20L4 18.59l7.72-7.72 1.47 1.35L5.41 20z\"/>\n",
              "  </svg>\n",
              "      </button>\n",
              "      \n",
              "  <style>\n",
              "    .colab-df-container {\n",
              "      display:flex;\n",
              "      flex-wrap:wrap;\n",
              "      gap: 12px;\n",
              "    }\n",
              "\n",
              "    .colab-df-convert {\n",
              "      background-color: #E8F0FE;\n",
              "      border: none;\n",
              "      border-radius: 50%;\n",
              "      cursor: pointer;\n",
              "      display: none;\n",
              "      fill: #1967D2;\n",
              "      height: 32px;\n",
              "      padding: 0 0 0 0;\n",
              "      width: 32px;\n",
              "    }\n",
              "\n",
              "    .colab-df-convert:hover {\n",
              "      background-color: #E2EBFA;\n",
              "      box-shadow: 0px 1px 2px rgba(60, 64, 67, 0.3), 0px 1px 3px 1px rgba(60, 64, 67, 0.15);\n",
              "      fill: #174EA6;\n",
              "    }\n",
              "\n",
              "    [theme=dark] .colab-df-convert {\n",
              "      background-color: #3B4455;\n",
              "      fill: #D2E3FC;\n",
              "    }\n",
              "\n",
              "    [theme=dark] .colab-df-convert:hover {\n",
              "      background-color: #434B5C;\n",
              "      box-shadow: 0px 1px 3px 1px rgba(0, 0, 0, 0.15);\n",
              "      filter: drop-shadow(0px 1px 2px rgba(0, 0, 0, 0.3));\n",
              "      fill: #FFFFFF;\n",
              "    }\n",
              "  </style>\n",
              "\n",
              "      <script>\n",
              "        const buttonEl =\n",
              "          document.querySelector('#df-3e703dd8-ec36-4cc3-b53d-4f60ec1ea9ac button.colab-df-convert');\n",
              "        buttonEl.style.display =\n",
              "          google.colab.kernel.accessAllowed ? 'block' : 'none';\n",
              "\n",
              "        async function convertToInteractive(key) {\n",
              "          const element = document.querySelector('#df-3e703dd8-ec36-4cc3-b53d-4f60ec1ea9ac');\n",
              "          const dataTable =\n",
              "            await google.colab.kernel.invokeFunction('convertToInteractive',\n",
              "                                                     [key], {});\n",
              "          if (!dataTable) return;\n",
              "\n",
              "          const docLinkHtml = 'Like what you see? Visit the ' +\n",
              "            '<a target=\"_blank\" href=https://colab.research.google.com/notebooks/data_table.ipynb>data table notebook</a>'\n",
              "            + ' to learn more about interactive tables.';\n",
              "          element.innerHTML = '';\n",
              "          dataTable['output_type'] = 'display_data';\n",
              "          await google.colab.output.renderOutput(dataTable, element);\n",
              "          const docLink = document.createElement('div');\n",
              "          docLink.innerHTML = docLinkHtml;\n",
              "          element.appendChild(docLink);\n",
              "        }\n",
              "      </script>\n",
              "    </div>\n",
              "  </div>\n",
              "  "
            ]
          },
          "metadata": {},
          "execution_count": 11
        }
      ]
    },
    {
      "cell_type": "code",
      "source": [
        "# Questao 3 (continuacao)\n",
        "\n",
        "# Calcule a correlacao entre o numero de emplacamentos e o IPI recolhido pela União.\n",
        "\n",
        "\n",
        "carros.corr()\n",
        "\n",
        "\n"
      ],
      "metadata": {
        "id": "9CCVuw1_QfGu",
        "colab": {
          "base_uri": "https://localhost:8080/",
          "height": 112
        },
        "outputId": "b44e4a39-27f3-44f6-8d17-302cd7ee947b"
      },
      "execution_count": 13,
      "outputs": [
        {
          "output_type": "execute_result",
          "data": {
            "text/plain": [
              "               emplacamentos      ipi\n",
              "emplacamentos        1.00000  0.80647\n",
              "ipi                  0.80647  1.00000"
            ],
            "text/html": [
              "\n",
              "  <div id=\"df-70d9e1ac-d45c-4fae-8c1b-8e2a262dd631\">\n",
              "    <div class=\"colab-df-container\">\n",
              "      <div>\n",
              "<style scoped>\n",
              "    .dataframe tbody tr th:only-of-type {\n",
              "        vertical-align: middle;\n",
              "    }\n",
              "\n",
              "    .dataframe tbody tr th {\n",
              "        vertical-align: top;\n",
              "    }\n",
              "\n",
              "    .dataframe thead th {\n",
              "        text-align: right;\n",
              "    }\n",
              "</style>\n",
              "<table border=\"1\" class=\"dataframe\">\n",
              "  <thead>\n",
              "    <tr style=\"text-align: right;\">\n",
              "      <th></th>\n",
              "      <th>emplacamentos</th>\n",
              "      <th>ipi</th>\n",
              "    </tr>\n",
              "  </thead>\n",
              "  <tbody>\n",
              "    <tr>\n",
              "      <th>emplacamentos</th>\n",
              "      <td>1.00000</td>\n",
              "      <td>0.80647</td>\n",
              "    </tr>\n",
              "    <tr>\n",
              "      <th>ipi</th>\n",
              "      <td>0.80647</td>\n",
              "      <td>1.00000</td>\n",
              "    </tr>\n",
              "  </tbody>\n",
              "</table>\n",
              "</div>\n",
              "      <button class=\"colab-df-convert\" onclick=\"convertToInteractive('df-70d9e1ac-d45c-4fae-8c1b-8e2a262dd631')\"\n",
              "              title=\"Convert this dataframe to an interactive table.\"\n",
              "              style=\"display:none;\">\n",
              "        \n",
              "  <svg xmlns=\"http://www.w3.org/2000/svg\" height=\"24px\"viewBox=\"0 0 24 24\"\n",
              "       width=\"24px\">\n",
              "    <path d=\"M0 0h24v24H0V0z\" fill=\"none\"/>\n",
              "    <path d=\"M18.56 5.44l.94 2.06.94-2.06 2.06-.94-2.06-.94-.94-2.06-.94 2.06-2.06.94zm-11 1L8.5 8.5l.94-2.06 2.06-.94-2.06-.94L8.5 2.5l-.94 2.06-2.06.94zm10 10l.94 2.06.94-2.06 2.06-.94-2.06-.94-.94-2.06-.94 2.06-2.06.94z\"/><path d=\"M17.41 7.96l-1.37-1.37c-.4-.4-.92-.59-1.43-.59-.52 0-1.04.2-1.43.59L10.3 9.45l-7.72 7.72c-.78.78-.78 2.05 0 2.83L4 21.41c.39.39.9.59 1.41.59.51 0 1.02-.2 1.41-.59l7.78-7.78 2.81-2.81c.8-.78.8-2.07 0-2.86zM5.41 20L4 18.59l7.72-7.72 1.47 1.35L5.41 20z\"/>\n",
              "  </svg>\n",
              "      </button>\n",
              "      \n",
              "  <style>\n",
              "    .colab-df-container {\n",
              "      display:flex;\n",
              "      flex-wrap:wrap;\n",
              "      gap: 12px;\n",
              "    }\n",
              "\n",
              "    .colab-df-convert {\n",
              "      background-color: #E8F0FE;\n",
              "      border: none;\n",
              "      border-radius: 50%;\n",
              "      cursor: pointer;\n",
              "      display: none;\n",
              "      fill: #1967D2;\n",
              "      height: 32px;\n",
              "      padding: 0 0 0 0;\n",
              "      width: 32px;\n",
              "    }\n",
              "\n",
              "    .colab-df-convert:hover {\n",
              "      background-color: #E2EBFA;\n",
              "      box-shadow: 0px 1px 2px rgba(60, 64, 67, 0.3), 0px 1px 3px 1px rgba(60, 64, 67, 0.15);\n",
              "      fill: #174EA6;\n",
              "    }\n",
              "\n",
              "    [theme=dark] .colab-df-convert {\n",
              "      background-color: #3B4455;\n",
              "      fill: #D2E3FC;\n",
              "    }\n",
              "\n",
              "    [theme=dark] .colab-df-convert:hover {\n",
              "      background-color: #434B5C;\n",
              "      box-shadow: 0px 1px 3px 1px rgba(0, 0, 0, 0.15);\n",
              "      filter: drop-shadow(0px 1px 2px rgba(0, 0, 0, 0.3));\n",
              "      fill: #FFFFFF;\n",
              "    }\n",
              "  </style>\n",
              "\n",
              "      <script>\n",
              "        const buttonEl =\n",
              "          document.querySelector('#df-70d9e1ac-d45c-4fae-8c1b-8e2a262dd631 button.colab-df-convert');\n",
              "        buttonEl.style.display =\n",
              "          google.colab.kernel.accessAllowed ? 'block' : 'none';\n",
              "\n",
              "        async function convertToInteractive(key) {\n",
              "          const element = document.querySelector('#df-70d9e1ac-d45c-4fae-8c1b-8e2a262dd631');\n",
              "          const dataTable =\n",
              "            await google.colab.kernel.invokeFunction('convertToInteractive',\n",
              "                                                     [key], {});\n",
              "          if (!dataTable) return;\n",
              "\n",
              "          const docLinkHtml = 'Like what you see? Visit the ' +\n",
              "            '<a target=\"_blank\" href=https://colab.research.google.com/notebooks/data_table.ipynb>data table notebook</a>'\n",
              "            + ' to learn more about interactive tables.';\n",
              "          element.innerHTML = '';\n",
              "          dataTable['output_type'] = 'display_data';\n",
              "          await google.colab.output.renderOutput(dataTable, element);\n",
              "          const docLink = document.createElement('div');\n",
              "          docLink.innerHTML = docLinkHtml;\n",
              "          element.appendChild(docLink);\n",
              "        }\n",
              "      </script>\n",
              "    </div>\n",
              "  </div>\n",
              "  "
            ]
          },
          "metadata": {},
          "execution_count": 13
        }
      ]
    },
    {
      "cell_type": "markdown",
      "source": [
        "###Questão 4\n",
        "\n",
        "Com a base de dados `carros`, faça um gráfico de dispersão utilizando `plt.scatter` entre `emplacamentos` e `ipi`."
      ],
      "metadata": {
        "id": "b_9DPA3nRV0W"
      }
    },
    {
      "cell_type": "code",
      "source": [
        "# Questao 4\n",
        "from matplotlib import pyplot as plt\n",
        "\n",
        "# Grafico de dispersao\n",
        "carros.plot.scatter(x='emplacamentos', y='ipi')\n",
        "plt.title(\"Correlação da base Carros\")\n",
        "plt.xlabel(\"Número emplacamentos\")\n",
        "plt.ylabel(\"IPI\")\n",
        "\n",
        "# Exibe o gráfico\n",
        "plt.show()"
      ],
      "metadata": {
        "id": "WhlmC6LESPca",
        "colab": {
          "base_uri": "https://localhost:8080/",
          "height": 472
        },
        "outputId": "ace554bc-2161-4412-d3c4-56cbb93504c8"
      },
      "execution_count": 21,
      "outputs": [
        {
          "output_type": "display_data",
          "data": {
            "text/plain": [
              "<Figure size 640x480 with 1 Axes>"
            ],
            "image/png": "[encoded data removed]"
          },
          "metadata": {}
        }
      ]
    },
    {
      "cell_type": "markdown",
      "source": [
        "###Questão 5\n",
        "\n",
        "Com base nas questões 3 e 4, como você interpretaria o valor do coeficiente de correlação observado? O que ocorre com a arrecadação do IPI quando o número de veículos emplacados aumenta?"
      ],
      "metadata": {
        "id": "8LNVxN-DvqpU"
      }
    },
    {
      "cell_type": "markdown",
      "source": [
        "> Dê 2 cliques e insira sua resposta aqui:\n",
        "\n",
        "Temos uma correlação alta, que é demonstrada através do coeficiente 0,8, e direta, pois quanto mais alto o IPI mais alto o emplacamento."
      ],
      "metadata": {
        "id": "_CSYvHYURQJL"
      }
    }
  ]
}